{
 "cells": [
  {
   "cell_type": "markdown",
   "metadata": {},
   "source": [
    "# Introduction to Programming and Numerical Analysis - Inaugural Project Spring 2020"
   ]
  },
  {
   "cell_type": "markdown",
   "metadata": {},
   "source": [
    "**Team:** Kongerækken\n",
    "\n",
    "**Members:** Frederik Degn Pedersen (qwn116) & Christian Brauer Johanssen (sjk185)\n",
    "\n",
    "**Imports and set magics:**"
   ]
  },
  {
   "cell_type": "code",
   "execution_count": 1,
   "metadata": {},
   "outputs": [],
   "source": [
    "import numpy as np\n",
    "from scipy import optimize\n",
    "import matplotlib.pyplot as plt\n",
    "plt.style.use(\"seaborn\")\n",
    "\n",
    "# autoreload modules when code is run\n",
    "%load_ext autoreload\n",
    "%autoreload 2\n",
    "\n",
    "# local modules\n",
    "import inauguralproject"
   ]
  },
  {
   "cell_type": "markdown",
   "metadata": {
    "toc-hr-collapsed": true
   },
   "source": [
    "# Question 1\n",
    "\n",
    "We consider a consumer solving the following maximisation problem\n",
    "\n",
    "$$ \n",
    "\\begin{aligned}\n",
    "U^* = U(c^*,l^*) & = \\text{arg}\\max_{c,l}\\log(c)-\\nu\\frac{l^{1+\\frac{1}{\\epsilon}}}{1 + \\frac{1}{\\epsilon}}\\\\\n",
    "& \\text{s.t.}\\\\\n",
    "x & = m+wl-[\\tau_{0}wl + \\tau_{1} \\max \\{wl-\\kappa, 0\\}]\\\\\n",
    "c &\\in [0, x]\\\\\n",
    "l &\\in [0, 1],\n",
    "\\end{aligned} \n",
    "$$\n",
    "\n",
    "where $c$ is consumption, $l$ is labour supply, $m$ is cash-on-hand, $w$ is the wage rate, $\\tau_0$ is the standard labour income tax, $\\tau_1$ is the top bracket labour income tax, $\\kappa$ is the cut-off for the top labour income bracket, $x$ is total resources, $\\nu$ scales the disutility of labour, and $\\epsilon$ is the Frisch elasticity of labour supply.\n",
    "\n",
    "Utility is monotonically increasing in consumption, which implies that\n",
    "\n",
    "$$\n",
    "\\begin{align}\n",
    "c^* & = x\n",
    "\\end{align}\n",
    "$$\n",
    "\n",
    "Thus, inserting for c and subsequently for x yields the following univariate maximisation problem with only one constraint: \n",
    "\n",
    "$$ \n",
    "\\begin{aligned}\n",
    "U^* & = \\text{arg}\\max_{l}\\log(m+wl-[\\tau_{0}wl + \\tau_{1} \\max \\{wl-\\kappa, 0\\}])-\\nu\\frac{l^{1+\\frac{1}{\\epsilon}}}{1 + \\frac{1}{\\epsilon}}\\\\\n",
    "& \\text{s.t. }l \\in [0, 1]\n",
    "\\end{aligned} \n",
    "$$\n",
    "\n",
    "The above utility function as well as the optimising function used to solve the maximisation problem are defined in the module."
   ]
  },
  {
   "cell_type": "code",
   "execution_count": 2,
   "metadata": {},
   "outputs": [
    {
     "name": "stdout",
     "output_type": "stream",
     "text": [
      "The agent will choose optimal labour = 0.40, which implies optimal consumption = 1.24 and utility = 0.17\n"
     ]
    }
   ],
   "source": [
    "# a. set parameters\n",
    "m = 1\n",
    "nu = 10\n",
    "eps = 0.3\n",
    "tau0 = 0.4\n",
    "tau1 = 0.1\n",
    "kappa = 0.4\n",
    "w = 1\n",
    "\n",
    "# b. compute optimal labour and consumption\n",
    "l_star, c_star, u_star = inauguralproject.u_optimiser(eps,kappa,nu,m,tau0,tau1,w)\n",
    "\n",
    "# c. print solution for assigned parameter values\n",
    "print(f'The agent will choose optimal labour = {l_star:.2f}, which implies optimal consumption = {c_star:.2f} and utility = {u_star:.2f}')"
   ]
  },
  {
   "cell_type": "markdown",
   "metadata": {},
   "source": [
    "# Question 2"
   ]
  },
  {
   "cell_type": "markdown",
   "metadata": {},
   "source": [
    "First we create a numpy array of wage values between 0.5 and 1.5 and two corresponding empty arrays in which to append the values for labour and consumption choice. Next we loop our user defined optimiser function over the wage values and store the results in the initially empty numpy arrays l_vals and c_vals. Finally we plot the two figures using a function defined in the corresponding module."
   ]
  },
  {
   "cell_type": "code",
   "execution_count": 8,
   "metadata": {},
   "outputs": [
    {
     "data": {
      "image/png": "[encoded data removed]",
      "text/plain": [
       "<Figure size 720x288 with 2 Axes>"
      ]
     },
     "metadata": {
      "needs_background": "light"
     },
     "output_type": "display_data"
    }
   ],
   "source": [
    "# a. create array of w and container for values of l and c\n",
    "N = 100\n",
    "w = np.linspace(0.5,1.5,num=N)\n",
    "l_vals = np.empty(N)\n",
    "c_vals = np.empty(N)\n",
    "\n",
    "# b. loop the optimiser over the w array\n",
    "for i,wi in enumerate (w): \n",
    "    lc = inauguralproject.u_optimiser(eps,kappa,nu,m,tau0,tau1,wi)\n",
    "    \n",
    "    l_vals[i] = lc[0]\n",
    "    c_vals[i] = lc[1] \n",
    "\n",
    "# c. plot the figure    \n",
    "inauguralproject.two_figures(w, l_vals, \"Labour\", \"$w$\", \"$l$\", w, c_vals, \"Consumption\", \"$w$\", \"$c$\")"
   ]
  },
  {
   "cell_type": "markdown",
   "metadata": {},
   "source": [
    "# Question 3"
   ]
  },
  {
   "cell_type": "markdown",
   "metadata": {},
   "source": [
    "In the module, we define a function which calculates the total tax revenue given parameters and the previously defined utility function."
   ]
  },
  {
   "cell_type": "code",
   "execution_count": 4,
   "metadata": {},
   "outputs": [
    {
     "name": "stdout",
     "output_type": "stream",
     "text": [
      "The total tax revenue is 1633.01\n"
     ]
    }
   ],
   "source": [
    "# set parameter values\n",
    "seed = 97\n",
    "size = 10000\n",
    "low = 0.5\n",
    "high = 1.5\n",
    "\n",
    "# compute total tax revenue\n",
    "total_tax_rev = inauguralproject.tax_revenue(seed,size,low,high)\n",
    "\n",
    "print(f'The total tax revenue is {total_tax_rev:.2f}')"
   ]
  },
  {
   "cell_type": "markdown",
   "metadata": {},
   "source": [
    "# Question 4"
   ]
  },
  {
   "cell_type": "markdown",
   "metadata": {},
   "source": [
    "We merely run the function from question 4 again with $\\epsilon = 0.1$:"
   ]
  },
  {
   "cell_type": "code",
   "execution_count": 5,
   "metadata": {},
   "outputs": [
    {
     "name": "stdout",
     "output_type": "stream",
     "text": [
      "The total tax revenue with Frisch elasticity = 0.1 is 3200.94\n"
     ]
    }
   ],
   "source": [
    "# run tax_revenue function again with new value of eps\n",
    "total_tax_rev = inauguralproject.tax_revenue(seed,size,low,high,eps=0.1)\n",
    "\n",
    "print(f'The total tax revenue with Frisch elasticity = 0.1 is {total_tax_rev:.2f}')"
   ]
  },
  {
   "cell_type": "markdown",
   "metadata": {},
   "source": [
    "# Question 5"
   ]
  },
  {
   "cell_type": "markdown",
   "metadata": {},
   "source": [
    "In this question, we return to $\\epsilon = 0.3$. We first define an objective function in order to subsequently maximize the tax revenue for the parameters in question. "
   ]
  },
  {
   "cell_type": "code",
   "execution_count": 6,
   "metadata": {},
   "outputs": [],
   "source": [
    "# list of parameters\n",
    "params = [tau0,tau1,kappa]\n",
    "\n",
    "# objective function\n",
    "def objective_tax(params,seed,size,low,high):\n",
    "    \"\"\" \n",
    "    Objective function version of total tax revenue. Params is a list that contains [t0,t1,kappa].\n",
    "    See docstring of total_tax_rev for input description of remaining variables. \n",
    "    \n",
    "    \"\"\"\n",
    "    return -(inauguralproject.tax_revenue(seed,size,low,high,tau0=params[0],tau1=params[1],kappa=params[2]))"
   ]
  },
  {
   "cell_type": "code",
   "execution_count": 7,
   "metadata": {},
   "outputs": [
    {
     "name": "stdout",
     "output_type": "stream",
     "text": [
      "The optimal standard tax is = 0.7855\n",
      "The optimal top bracket tax is = 0.0000\n",
      "The optimal cut off for top bracket tax is = 0.0010\n",
      "Expected optimal total tax revenue is 2470.43\n"
     ]
    }
   ],
   "source": [
    "# initial guess\n",
    "init_guess = [0.4,0.1,0.4] # same as assignment text\n",
    "\n",
    "# solve for optimal tax parameters\n",
    "tax_params = optimize.minimize(objective_tax,x0=init_guess,method='SLSQP',\n",
    "                  args=(seed,size,low,high), bounds= [(0,1),(0,1),(0,1)])\n",
    "\n",
    "# unpack and print solution\n",
    "tau0_star = tax_params.x[0]\n",
    "tau1_star = tax_params.x[1]\n",
    "kappa_star = tax_params.x[2]\n",
    "\n",
    "print(f'The optimal standard tax is = {tau0_star:.4f}')\n",
    "print(f'The optimal top bracket tax is = {tau1_star:.4f}')\n",
    "print(f'The optimal cut off for top bracket tax is = {kappa_star:.4f}')\n",
    "print(f'Expected optimal total tax revenue is {-tax_params.fun:.2f}')"
   ]
  },
  {
   "cell_type": "markdown",
   "metadata": {},
   "source": [
    "# Conclusion"
   ]
  },
  {
   "cell_type": "markdown",
   "metadata": {},
   "source": [
    "In this assignment we have solved a consumer utility maximisation problem with respect to consumption and labour choice. When plotting optimal consumption and labour choices for a wage range between 0.5 and 1.5, we observe that there is a kink in the labour supply curve (i.e. continuity is violated, which is the reason why the problem cannot be solved analytically). Moreover, in a small interval around $w = 1$, consumption is constant and wage increases merely lead to reduced labour supply. This is a consequence of the top income bracket labour tax being effective from the moment where income ($w_i l^*$) exceeds the cutoff value ($\\kappa=0.4$).\n",
    "\n",
    "From question 3 and 4, we can conclude that when the Frisch elasticity of labour decreases, the tax revenue increases. This is because labour supply becomes more inelastic, which implies that other things equal the agents are willing to supply more labour (in the limit they supply their whole time endowment) for a given wage rate. A larger labour supply is equivalent with a larger tax base. \n",
    "\n",
    "At last, we find that for the politician to maximize the expected revenue, she should discard the top bracket tax and just increase standard income tax to 79%. How about that for a Laffer curve. "
   ]
  }
 ],
 "metadata": {
  "kernelspec": {
   "display_name": "Python 3",
   "language": "python",
   "name": "python3"
  },
  "language_info": {
   "codemirror_mode": {
    "name": "ipython",
    "version": 3
   },
   "file_extension": ".py",
   "mimetype": "text/x-python",
   "name": "python",
   "nbconvert_exporter": "python",
   "pygments_lexer": "ipython3",
   "version": "3.7.4"
  },
  "toc-autonumbering": true
 },
 "nbformat": 4,
 "nbformat_minor": 4
}
