{
 "cells": [
  {
   "cell_type": "markdown",
   "metadata": {},
   "source": [
    "# Inaugural Project"
   ]
  },
  {
   "cell_type": "markdown",
   "metadata": {},
   "source": [
    "Imports and set magics:"
   ]
  },
  {
   "cell_type": "code",
   "execution_count": 8,
   "metadata": {},
   "outputs": [
    {
     "name": "stdout",
     "output_type": "stream",
     "text": [
      "The autoreload extension is already loaded. To reload it, use:\n",
      "  %reload_ext autoreload\n"
     ]
    }
   ],
   "source": [
    "import numpy as np\n",
    "from scipy import optimize\n",
    "import matplotlib.pyplot as plt\n",
    "plt.style.use(\"seaborn\")\n",
    "\n",
    "# autoreload modules when code is run\n",
    "%load_ext autoreload\n",
    "%autoreload 2\n",
    "\n",
    "# local modules\n",
    "import inauguralproject"
   ]
  },
  {
   "cell_type": "markdown",
   "metadata": {
    "toc-hr-collapsed": true
   },
   "source": [
    "# Question 1\n",
    "\n",
    "We consider a consumer solving the following maximization problem\n",
    "\n",
    "$$ \n",
    "\\begin{aligned}\n",
    "U^* = U(c^*,l^*) & = \\text{arg}\\max_{c,l}\\log(c)-\\nu\\frac{l^{1+\\frac{1}{\\epsilon}}}{1 + \\frac{1}{\\epsilon}}\\\\\n",
    "& \\text{s.t.}\\\\\n",
    "x & = m+wl-[\\tau_{0}wl + \\tau_{1} \\max \\{wl-\\kappa, 0\\}]\\\\\n",
    "c &\\in [0, x]\\\\\n",
    "l &\\in [0, 1],\n",
    "\\end{aligned} \n",
    "$$\n",
    "\n",
    "where $c$ is consumption, $l$ is labor supply, $m$ is cash-on-hand, $w$ is the wage rate, $\\tau_0$ is the\n",
    "standard labor income tax, $\\tau_0$ is the top bracket labor income tax, $\\kappa$ is the cut-off for the top labor income bracket, $x$ is total resources, $\\nu$ scales the disutility of labor, and $\\epsilon$ is the Frisch elasticity of labor supply.\n",
    "Utility is monotonically increasing in consumption, which implies that\n",
    "\n",
    "$$\n",
    "\\begin{align}\n",
    "c^* & = x\n",
    "\\end{align}\n",
    "$$\n",
    "\n",
    "Thus, inserting for c and subsequently for x yields the following univariate maximisation problem with only one constraint: \n",
    "\n",
    "$$ \n",
    "\\begin{aligned}\n",
    "U^* & = \\text{arg}\\max_{l}\\log(m+wl-[\\tau_{0}wl + \\tau_{1} \\max \\{wl-\\kappa, 0\\}])-\\nu\\frac{l^{1+\\frac{1}{\\epsilon}}}{1 + \\frac{1}{\\epsilon}}\\\\\n",
    "& \\text{s.t.}\\\\\n",
    "l &\\in [0, 1]\n",
    "\\end{aligned} \n",
    "$$"
   ]
  },
  {
   "cell_type": "markdown",
   "metadata": {},
   "source": [
    "The above utility function is defined in the module."
   ]
  },
  {
   "cell_type": "code",
   "execution_count": 7,
   "metadata": {},
   "outputs": [
    {
     "name": "stdout",
     "output_type": "stream",
     "text": [
      "Optimization terminated successfully.\n",
      "The agent will chooose l^star = 0.3826, which implies c^star = 1.0400 and U^star = 0.1722\n"
     ]
    }
   ],
   "source": [
    "# code for solving the model (remember documentation and comments)\n",
    "\n",
    "# b. set parameters\n",
    "l = float()\n",
    "m = 1\n",
    "nu = 10\n",
    "eps = 0.3\n",
    "tau0 = 0.4\n",
    "tau1 = 0.1\n",
    "kappa = 0.4\n",
    "w = 1\n",
    "\n",
    "\n",
    "# c. set objective function\n",
    "obj = lambda l: -inauguralproject.u_func(l,eps,kappa,nu,m,tau0,tau1,w)\n",
    "\n",
    "# d. set constraints\n",
    "con = lambda l: l\n",
    "constraints = ({'type':'ineq','fun':con})\n",
    "\n",
    "# e. call solver and derive level of consumption\n",
    "initial_guess = 0\n",
    "sol = optimize.minimize(obj,initial_guess,method='SLSQP',constraints=constraints)\n",
    "\n",
    "c = m + w*l - (tau0*w*l + tau1*np.max(w*l - kappa,0))\n",
    "\n",
    "\n",
    "# f. print solution\n",
    "print(sol.message)\n",
    "print(f'The agent will chooose l^star = {float(sol.x):.4f}, which implies c^star = {c:.4f} and U^star = {-sol.fun:.4f}')"
   ]
  },
  {
   "cell_type": "markdown",
   "metadata": {},
   "source": [
    "# Question 2"
   ]
  },
  {
   "cell_type": "markdown",
   "metadata": {},
   "source": [
    "ADD ANSWER."
   ]
  },
  {
   "cell_type": "code",
   "execution_count": null,
   "metadata": {},
   "outputs": [],
   "source": [
    "w = np.linspace(0.5,1.5,num=100)\n",
    "\n"
   ]
  },
  {
   "cell_type": "markdown",
   "metadata": {},
   "source": [
    "# Question 3"
   ]
  },
  {
   "cell_type": "markdown",
   "metadata": {},
   "source": [
    "ADD ANSWER."
   ]
  },
  {
   "cell_type": "code",
   "execution_count": null,
   "metadata": {},
   "outputs": [],
   "source": [
    "# code"
   ]
  },
  {
   "cell_type": "markdown",
   "metadata": {},
   "source": [
    "# Question 4"
   ]
  },
  {
   "cell_type": "markdown",
   "metadata": {},
   "source": [
    "ADD ANSWER."
   ]
  },
  {
   "cell_type": "code",
   "execution_count": null,
   "metadata": {},
   "outputs": [],
   "source": [
    "# code"
   ]
  },
  {
   "cell_type": "markdown",
   "metadata": {},
   "source": [
    "# Question 5"
   ]
  },
  {
   "cell_type": "markdown",
   "metadata": {},
   "source": [
    "ADD ANSWER."
   ]
  },
  {
   "cell_type": "code",
   "execution_count": null,
   "metadata": {},
   "outputs": [],
   "source": [
    "# code"
   ]
  },
  {
   "cell_type": "markdown",
   "metadata": {},
   "source": [
    "# Conclusion"
   ]
  },
  {
   "cell_type": "markdown",
   "metadata": {},
   "source": [
    "ADD CONCISE CONLUSION."
   ]
  }
 ],
 "metadata": {
  "kernelspec": {
   "display_name": "Python 3",
   "language": "python",
   "name": "python3"
  },
  "language_info": {
   "codemirror_mode": {
    "name": "ipython",
    "version": 3
   },
   "file_extension": ".py",
   "mimetype": "text/x-python",
   "name": "python",
   "nbconvert_exporter": "python",
   "pygments_lexer": "ipython3",
   "version": "3.7.4"
  },
  "toc-autonumbering": true
 },
 "nbformat": 4,
 "nbformat_minor": 4
}
