{
 "cells": [
  {
   "cell_type": "markdown",
   "metadata": {},
   "source": [
    "# Inaugural Project"
   ]
  },
  {
   "cell_type": "markdown",
   "metadata": {},
   "source": [
    "> **Note the following:** \n",
    "> 1. This is an example of how to structure your **inaugural project**.\n",
    "> 1. Remember the general advice on structuring and commenting your code from [lecture 5](https://numeconcopenhagen.netlify.com/lectures/Workflow_and_debugging).\n",
    "> 1. Remember this [guide](https://www.markdownguide.org/basic-syntax/) on markdown and (a bit of) latex.\n",
    "> 1. Turn on automatic numbering by clicking on the small icon on top of the table of contents in the left sidebar.\n",
    "> 1. The `inauguralproject.py` file includes a function which can be used multiple times in this notebook."
   ]
  },
  {
   "cell_type": "markdown",
   "metadata": {},
   "source": [
    "Imports and set magics:"
   ]
  },
  {
   "cell_type": "code",
   "execution_count": 1,
   "metadata": {},
   "outputs": [],
   "source": [
    "import numpy as np\n",
    "\n",
    "# autoreload modules when code is run\n",
    "%load_ext autoreload\n",
    "%autoreload 2\n",
    "\n",
    "# local modules\n",
    "import inauguralproject"
   ]
  },
  {
   "cell_type": "markdown",
   "metadata": {
    "toc-hr-collapsed": true
   },
   "source": [
    "# Question 1\n",
    "\n",
    "We consider a consumer solving the following maximization problem\n",
    "\n",
    "$$ \n",
    "\\begin{aligned}\n",
    "U^* = U(c^*,l^*) & = \\text{arg}\\max_{c,l}\\log(c)-\\nu\\frac{l^{1+\\frac{1}{\\epsilon}}}{1 + \\frac{1}{\\epsilon}}\\\\\n",
    "& \\text{s.t.}\\\\\n",
    "x & = m+wl-[\\tau_{0}wl + \\tau_{1} \\max \\{wl-\\kappa, 0\\}]\\\\\n",
    "c &\\in [0, x]\\\\\n",
    "l &\\in [0, 1],\n",
    "\\end{aligned} \n",
    "$$\n",
    "\n",
    "where $c$ is consumption, $l$ is labor supply, $m$ is cash-on-hand, $w$ is the wage rate, $\\tau_0$ is the\n",
    "standard labor income tax, $\\tau_0$ is the top bracket labor income tax, $\\kappa$ is the cut-off for the top labor income bracket, $x$ is total resources, $\\nu$ scales the disutility of labor, and $\\epsilon$ is the Frisch elasticity of labor supply.\n",
    "Utility is monotonically increasing in consumption, which implies that\n",
    "\n",
    "$$\n",
    "\\begin{align}\n",
    "c^* & = x\n",
    "\\end{align}\n",
    "$$\n",
    "\n",
    "Thus, inserting for c and subsequently for x yields the following univariate maximisation problem with only one constraint: \n",
    "\n",
    "$$ \n",
    "\\begin{aligned}\n",
    "U^* & = \\text{arg}\\max_{l}\\log(m+wl-[\\tau_{0}wl + \\tau_{1} \\max \\{wl-\\kappa, 0\\}])-\\nu\\frac{l^{1+\\frac{1}{\\epsilon}}}{1 + \\frac{1}{\\epsilon}}\\\\\n",
    "& \\text{s.t.}\\\\\n",
    "l &\\in [0, 1]\n",
    "\\end{aligned} \n",
    "$$"
   ]
  },
  {
   "cell_type": "markdown",
   "metadata": {},
   "source": [
    "BRIEFLY EXPLAIN HOW YOU SOLVE THE MODEL."
   ]
  },
  {
   "cell_type": "code",
   "execution_count": 2,
   "metadata": {},
   "outputs": [
    {
     "name": "stdout",
     "output_type": "stream",
     "text": [
      "[1 4 9]\n"
     ]
    }
   ],
   "source": [
    "# code for solving the model (remember documentation and comments)\n",
    "\n",
    "a = np.array([1,2,3])\n",
    "b = inauguralproject.square(a)\n",
    "print(b)"
   ]
  },
  {
   "cell_type": "markdown",
   "metadata": {},
   "source": [
    "# Question 2"
   ]
  },
  {
   "cell_type": "markdown",
   "metadata": {},
   "source": [
    "ADD ANSWER."
   ]
  },
  {
   "cell_type": "code",
   "execution_count": 3,
   "metadata": {},
   "outputs": [],
   "source": [
    "# code"
   ]
  },
  {
   "cell_type": "markdown",
   "metadata": {},
   "source": [
    "# Question 3"
   ]
  },
  {
   "cell_type": "markdown",
   "metadata": {},
   "source": [
    "ADD ANSWER."
   ]
  },
  {
   "cell_type": "code",
   "execution_count": 4,
   "metadata": {},
   "outputs": [],
   "source": [
    "# code"
   ]
  },
  {
   "cell_type": "markdown",
   "metadata": {},
   "source": [
    "# Question 4"
   ]
  },
  {
   "cell_type": "markdown",
   "metadata": {},
   "source": [
    "ADD ANSWER."
   ]
  },
  {
   "cell_type": "code",
   "execution_count": 5,
   "metadata": {},
   "outputs": [],
   "source": [
    "# code"
   ]
  },
  {
   "cell_type": "markdown",
   "metadata": {},
   "source": [
    "# Question 5"
   ]
  },
  {
   "cell_type": "markdown",
   "metadata": {},
   "source": [
    "ADD ANSWER."
   ]
  },
  {
   "cell_type": "code",
   "execution_count": 6,
   "metadata": {},
   "outputs": [],
   "source": [
    "# code"
   ]
  },
  {
   "cell_type": "markdown",
   "metadata": {},
   "source": [
    "# Conclusion"
   ]
  },
  {
   "cell_type": "markdown",
   "metadata": {},
   "source": [
    "ADD CONCISE CONLUSION."
   ]
  }
 ],
 "metadata": {
  "kernelspec": {
   "display_name": "Python 3",
   "language": "python",
   "name": "python3"
  },
  "language_info": {
   "codemirror_mode": {
    "name": "ipython",
    "version": 3
   },
   "file_extension": ".py",
   "mimetype": "text/x-python",
   "name": "python",
   "nbconvert_exporter": "python",
   "pygments_lexer": "ipython3",
   "version": "3.7.4"
  },
  "toc-autonumbering": true
 },
 "nbformat": 4,
 "nbformat_minor": 4
}