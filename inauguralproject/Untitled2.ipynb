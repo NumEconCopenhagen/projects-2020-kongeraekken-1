{
 "cells": [
  {
   "cell_type": "code",
   "execution_count": 1,
   "metadata": {},
   "outputs": [
    {
     "name": "stdout",
     "output_type": "stream",
     "text": [
      "Optimal labour supply is: 0.382\n",
      "Optimal consumption is: 1.326\n",
      "maximized utility is: 0.247\n"
     ]
    },
    {
     "name": "stderr",
     "output_type": "stream",
     "text": [
      "/Users/FrederikP/opt/anaconda3/lib/python3.7/site-packages/ipykernel_launcher.py:15: RuntimeWarning: invalid value encountered in log\n",
      "  from ipykernel import kernelapp as app\n"
     ]
    }
   ],
   "source": [
    "from scipy import optimize\n",
    "import numpy as np\n",
    "\n",
    "# a. define global variables\n",
    "m=1 \n",
    "v=10 \n",
    "#epsilon=0.3\n",
    "tau_0=0.4 \n",
    "tau_1=0.1 \n",
    "kappa=0.4 \n",
    "w=1.5 # this value is not a constant like the rest\n",
    "\n",
    "# a. define utility and budget constraint\n",
    "def utility(c, l, v, epsilon):\n",
    "    u = np.log(c) - v*((l**(1+(1/epsilon)))/(1+(1/epsilon)))\n",
    "    return u\n",
    "\n",
    "def budget_constraint(l, w, m, tau_0, tau_1, kappa):\n",
    "    x = m + w*l - (tau_0*w*l+tau_1*max(w*l-kappa, 0)) \n",
    "    return x\n",
    "\n",
    "# c. define objective function\n",
    "#given that c* = x then we can sub in c into the BC\n",
    "def objective_function(l, w, epsilon, tau_0, tau_1, kappa, v, m):\n",
    "    c = budget_constraint(m = m, w = w, l = l, tau_0 = tau_0, tau_1 = tau_1, kappa = kappa)\n",
    "    return -utility(l = l, c = c, epsilon = epsilon, v = v)\n",
    "    \n",
    "# c. call optimizer and calculate optimum\n",
    "def optimizer(w, epsilon, v, tau_0, tau_1, kappa, m):\n",
    "    res = optimize.minimize_scalar(\n",
    "        objective_function, method='bounded',\n",
    "        bounds=(0,1),args=(w, epsilon, v, tau_0, tau_1, kappa, m))\n",
    "    l_opt = res.x\n",
    "    c_opt = budget_constraint(m = m, w = w, l = l_opt, tau_0 = tau_0, tau_1 = tau_1, kappa = kappa)\n",
    "    u_opt = utility(l = l_opt, c = c_opt, epsilon = epsilon, v = v)\n",
    "    return l_opt, c_opt, u_opt\n",
    "\n",
    "l_opt, c_opt, u_opt = optimizer(w = w, epsilon = 0.3,v = v,tau_0 = tau_0,tau_1 = tau_1,kappa = kappa, m = m)\n",
    "\n",
    "# f. print resultat\n",
    "print(f'Optimal labour supply is: {l_opt:.3f}')\n",
    "print(f'Optimal consumption is: {c_opt:.3f}')\n",
    "print(f'maximized utility is: {u_opt:.3f}')"
   ]
  },
  {
   "cell_type": "code",
   "execution_count": null,
   "metadata": {},
   "outputs": [],
   "source": []
  }
 ],
 "metadata": {
  "kernelspec": {
   "display_name": "Python 3",
   "language": "python",
   "name": "python3"
  },
  "language_info": {
   "codemirror_mode": {
    "name": "ipython",
    "version": 3
   },
   "file_extension": ".py",
   "mimetype": "text/x-python",
   "name": "python",
   "nbconvert_exporter": "python",
   "pygments_lexer": "ipython3",
   "version": "3.7.4"
  }
 },
 "nbformat": 4,
 "nbformat_minor": 4
}
