{
 "cells": [
  {
   "cell_type": "markdown",
   "metadata": {},
   "source": [
    "# Introduction to Programming and Numerical Analysis - Inaugural Project Spring 2020\n",
    "\n",
    "We consider a consumer solving the following maximization problem\n",
    "\n",
    "$$ \n",
    "\\begin{aligned}\n",
    "U^* = U(c^*,l^*) & = \\text{arg}\\max_{c,l}\\log(c)-\\nu\\frac{l^{1+\\frac{1}{\\epsilon}}}{1 + \\frac{1}{\\epsilon}}\\\\\n",
    "& \\text{s.t.}\\\\\n",
    "x & = m+wl-[\\tau_{0}wl + \\tau_{1} \\max \\{wl-\\kappa, 0\\}]\\\\\n",
    "c &\\in [0, x]\\\\\n",
    "l &\\in [0, 1],\n",
    "\\end{aligned} \n",
    "$$\n",
    "\n",
    "where $c$ is consumption, $l$ is labor supply, $m$ is cash-on-hand, $w$ is the wage rate, $\\tau_0$ is the\n",
    "standard labor income tax, $\\tau_0$ is the top bracket labor income tax, $\\kappa$ is the cut-off for the top labor income bracket, $x$ is total resources, $\\nu$ scales the disutility of labor, and $\\epsilon$ is the Frisch elasticity of labor supply.\n",
    "Utility is monotonically increasing in consumption, which implies that\n",
    "\n",
    "$$\n",
    "\\begin{align}\n",
    "c^* & = x\n",
    "\\end{align}\n",
    "$$\n",
    "\n",
    "Thus, inserting for c and subsequently for x yields the following univariate maximisation problem with only one constraint: \n",
    "\n",
    "$$ \n",
    "\\begin{aligned}\n",
    "U^* & = \\text{arg}\\max_{l}\\log(m+wl-[\\tau_{0}wl + \\tau_{1} \\max \\{wl-\\kappa, 0\\}])-\\nu\\frac{l^{1+\\frac{1}{\\epsilon}}}{1 + \\frac{1}{\\epsilon}}\\\\\n",
    "& \\text{s.t.}\\\\\n",
    "l &\\in [0, 1]\n",
    "\\end{aligned} \n",
    "$$\n",
    "\n",
    "# Problem 1: Solve the utility maximisation problem given parameters"
   ]
  },
  {
   "cell_type": "code",
   "execution_count": 68,
   "metadata": {},
   "outputs": [
    {
     "name": "stdout",
     "output_type": "stream",
     "text": [
      "Optimization terminated successfully.\n",
      "The agent will chooose l^star = 0.3826, which implies c^star = 1.0400 and U^star = 0.1722\n"
     ]
    }
   ],
   "source": [
    "import numpy as np\n",
    "from scipy import optimize\n",
    "import matplotlib.pyplot as plt\n",
    "\n",
    "\n",
    "# a. define utility function\n",
    "def u_func(l,eps,kappa,nu,m,tau0,tau1,w):\n",
    "    \"\"\"\n",
    "    CRRA utility function for an rational agent making a consumption and labour decision subject\n",
    "    to constraints. The optimisation problem only considers labour as consumption is an implicit\n",
    "    function hereof. \n",
    "    \n",
    "    Variables:\n",
    "    l: labour\n",
    "    eps: Frisch elasticity of labour supply\n",
    "    kappa: cut-off for top labour income bracket\n",
    "    nu: a scalar for the weight put on disutility of labour\n",
    "    m: cash-on-hand\n",
    "    tau0: normal tax rate\n",
    "    tau1: top labour income bracket tax rate\n",
    "    w: wage rate\n",
    "    \n",
    "    \"\"\"\n",
    "    \n",
    "    u = np.log(m + w*l - (tau0*w*l + tau1*np.max(w*l - kappa,0))) - nu*(l**(1+1/eps)/(1+1/eps))\n",
    "    return u\n",
    "\n",
    "# b. set parameters\n",
    "m = 1\n",
    "nu = 10\n",
    "eps = 0.3\n",
    "tau0 = 0.4\n",
    "tau1 = 0.1\n",
    "kappa = 0.4\n",
    "w = 1\n",
    "\n",
    "\n",
    "# c. set objective function\n",
    "obj = lambda l: -u_func(l,eps,kappa,nu,m,tau0,tau1,w)\n",
    "\n",
    "# d. set constraints\n",
    "con = lambda l: l\n",
    "\n",
    "constraints = ({'type':'ineq','fun':con})\n",
    "\n",
    "\n",
    "# e. call solver and derive level of consumption\n",
    "initial_guess = 0\n",
    "sol = optimize.minimize(obj,initial_guess,method='SLSQP',constraints=constraints)\n",
    "\n",
    "c = m + w*l - (tau0*w*l + tau1*np.max(w*l - kappa,0))\n",
    "\n",
    "print(sol.message)\n",
    "print(f'The agent will chooose l^star = {float(sol.x):.4f}, which implies c^star = {c:.4f} and U^star = {-sol.fun:.4f}')\n"
   ]
  },
  {
   "cell_type": "code",
   "execution_count": null,
   "metadata": {},
   "outputs": [],
   "source": []
  },
  {
   "cell_type": "code",
   "execution_count": 10,
   "metadata": {},
   "outputs": [],
   "source": []
  },
  {
   "cell_type": "code",
   "execution_count": null,
   "metadata": {},
   "outputs": [],
   "source": []
  }
 ],
 "metadata": {
  "kernelspec": {
   "display_name": "Python 3",
   "language": "python",
   "name": "python3"
  },
  "language_info": {
   "codemirror_mode": {
    "name": "ipython",
    "version": 3
   },
   "file_extension": ".py",
   "mimetype": "text/x-python",
   "name": "python",
   "nbconvert_exporter": "python",
   "pygments_lexer": "ipython3",
   "version": "3.7.4"
  }
 },
 "nbformat": 4,
 "nbformat_minor": 4
}
