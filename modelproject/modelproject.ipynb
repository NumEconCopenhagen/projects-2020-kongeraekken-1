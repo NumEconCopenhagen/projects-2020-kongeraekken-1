{
 "cells": [
  {
   "cell_type": "markdown",
   "metadata": {},
   "source": [
    "# Dynamic Optimization With and Without Income Risk"
   ]
  },
  {
   "cell_type": "markdown",
   "metadata": {},
   "source": [
    "> **Note the following:** \n",
    "> 1. This is *not* meant to be an example of an actual **model analysis project**, just an example of how to structure such a project.\n",
    "> 1. Remember the general advice on structuring and commenting your code from [lecture 5](https://numeconcopenhagen.netlify.com/lectures/Workflow_and_debugging).\n",
    "> 1. Remember this [guide](https://www.markdownguide.org/basic-syntax/) on markdown and (a bit of) latex.\n",
    "> 1. Turn on automatic numbering by clicking on the small icon on top of the table of contents in the left sidebar.\n",
    "> 1. The `modelproject.py` file includes a function which could be used multiple times in this notebook."
   ]
  },
  {
   "cell_type": "markdown",
   "metadata": {},
   "source": [
    "Imports and set magics:"
   ]
  },
  {
   "cell_type": "code",
   "execution_count": 1,
   "metadata": {},
   "outputs": [],
   "source": [
    "import numpy as np\n",
    "import matplotlib.pyplot as plt\n",
    "plt.style.use('seaborn-whitegrid')\n",
    "import ipywidgets as widgets\n",
    "import time\n",
    "from scipy import linalg\n",
    "from scipy import optimize\n",
    "from scipy import interpolate\n",
    "import sympy as sm\n",
    "from IPython.display import display\n",
    "\n",
    "# autoreload modules when code is run\n",
    "%load_ext autoreload\n",
    "%autoreload 2\n",
    "\n",
    "# local modules\n",
    "import modelproject\n",
    "\n",
    "%matplotlib inline\n",
    "import matplotlib.pyplot as plt\n",
    "plt.style.use('seaborn-whitegrid')\n",
    "from matplotlib import cm\n",
    "from mpl_toolkits.mplot3d import Axes3D"
   ]
  },
  {
   "cell_type": "markdown",
   "metadata": {
    "toc-hr-collapsed": true
   },
   "source": [
    "# Model description - The Simple Case"
   ]
  },
  {
   "cell_type": "markdown",
   "metadata": {},
   "source": [
    "To start, we consider a simple two period consumer problem without uncertainty, where the following definitions of **variables** and **parameters** apply:\n",
    "\n",
    "* $m$ is the endowment (cash-on-hand). In this simplified version the consumer only get an endowment in period 1.\n",
    "* $c$ is consumption\n",
    "* $r$ is the interest rate\n",
    "* $\\beta > 0$, $\\rho > 1$ are utility parameters (subjective discount factor, coefficient of risk aversion\n",
    "* Subscripts denotes periods\n",
    "\n",
    "The two period utility function, $U$, can then be written as \n",
    "\n",
    "$$\n",
    "\\begin{align}\n",
    "    U &= \\max_{c_1,c_2}\\frac{c_1^{1-\\rho}}{1-\\rho}+\\beta\\frac{c_2^{1-\\rho}}{1-\\rho} \\\\\n",
    "    \\text{s.t.} \\\\\n",
    "    c_2 &= (1+r)(m_1-c_1) \\\\\n",
    "    c_{1} &\\in [0,m_{1}] \\\\\n",
    "\\end{align}\n",
    "$$\n",
    "\n",
    "where the constraint on consumption in period 2 is derived from the intertemporal budget constraint. Borrowing is not possible by the second constraint. "
   ]
  },
  {
   "cell_type": "markdown",
   "metadata": {},
   "source": [
    "## Analysis using sympy\n",
    "First we define all **symbols**"
   ]
  },
  {
   "cell_type": "code",
   "execution_count": 2,
   "metadata": {},
   "outputs": [
    {
     "data": {
      "text/latex": [
       "$\\displaystyle \\frac{\\beta \\left(- r - 1\\right) \\left(- c_{1} r - c_{1} + m_{1} r + m_{1}\\right)^{1 - \\rho}}{- c_{1} r - c_{1} + m_{1} r + m_{1}} + \\frac{c_{1}^{1 - \\rho}}{c_{1}}$"
      ],
      "text/plain": [
       "beta*(-r - 1)*(-c_1*r - c_1 + m_1*r + m_1)**(1 - rho)/(-c_1*r - c_1 + m_1*r + m_1) + c_1**(1 - rho)/c_1"
      ]
     },
     "execution_count": 2,
     "metadata": {},
     "output_type": "execute_result"
    }
   ],
   "source": [
    "# define symbols\n",
    "#m1 = sm.symbols('m_1')\n",
    "c1 = sm.symbols('c_1')\n",
    "c2 = sm.symbols('c_2')\n",
    "r = sm.symbols('r')\n",
    "\n",
    "beta = sm.symbols('beta')\n",
    "rho = sm.symbols('rho')\n",
    "\n",
    "# define objective\n",
    "m2 = (1+r)*(m1-c1)\n",
    "obj = c1**(1-rho)/(1-rho)+beta*(c2**(1-rho)/(1-rho))\n",
    "\n",
    "# define constraint and solve for c2\n",
    "cons = sm.Eq(c2,(1+r)*(m1-c1))\n",
    "c2_from_cons = sm.solve(cons,c2)\n",
    "\n",
    "# substitute for c2 and take first order conditions\n",
    "obj_subs = obj.subs(c2,c2_from_cons[0])\n",
    "\n",
    "dU_dc1 = sm.diff(obj_subs,c1)\n",
    "dU_dc1"
   ]
  },
  {
   "cell_type": "markdown",
   "metadata": {},
   "source": [
    "Before we can solve for optimal consumption in period 1, we need to help sympy understand that the above expression is equal to \n",
    "$$\n",
    "\\begin{align}\n",
    "    \\frac{1}{c_1} &= \\frac{\\left(\\beta(1+r)\\right)^\\frac{1}{\\rho}}{(1+r)(m_1-c_1)}\n",
    "\\end{align}\n",
    "$$"
   ]
  },
  {
   "cell_type": "code",
   "execution_count": 3,
   "metadata": {},
   "outputs": [
    {
     "data": {
      "text/latex": [
       "$\\displaystyle \\frac{1}{c_{1}} = \\frac{\\left(\\beta \\left(r + 1\\right)\\right)^{\\frac{1}{\\rho}}}{\\left(- c_{1} + m_{1}\\right) \\left(r + 1\\right)}$"
      ],
      "text/plain": [
       "Eq(1/c_1, (beta*(r + 1))**(1/rho)/((-c_1 + m_1)*(r + 1)))"
      ]
     },
     "metadata": {},
     "output_type": "display_data"
    }
   ],
   "source": [
    "# help sympy collect terms\n",
    "dU_dc1_simple = sm.Eq(1/c1,(beta*(1+r))**(1/rho)/((1+r)*(m1-c1)))\n",
    "display(dU_dc1_simple)"
   ]
  },
  {
   "cell_type": "code",
   "execution_count": 4,
   "metadata": {},
   "outputs": [],
   "source": [
    "# solve for optimal c1\n",
    "c1_star_solve = sm.solve(dU_dc1_simple,c1)\n",
    "c1_star = c1_star_solve[0]"
   ]
  },
  {
   "cell_type": "code",
   "execution_count": 5,
   "metadata": {},
   "outputs": [],
   "source": [
    "# compute optimal c2\n",
    "cons_subs = cons.subs(c1,c1_star)\n",
    "c2_star_solve = sm.solve(cons_subs,c2)\n",
    "c2_star = c2_star_solve[0]"
   ]
  },
  {
   "cell_type": "code",
   "execution_count": 6,
   "metadata": {},
   "outputs": [],
   "source": [
    "# lambdify functions for c1 and c2\n",
    "c1_func = sm.lambdify((m1,r,beta,rho),c1_star)\n",
    "c2_func = sm.lambdify((m1,r,beta,rho),c2_star)"
   ]
  },
  {
   "cell_type": "code",
   "execution_count": 7,
   "metadata": {},
   "outputs": [],
   "source": [
    "# define parameter values\n",
    "#m1 = 1\n",
    "r = 0.04\n",
    "beta = 0.94\n",
    "rho = 8"
   ]
  },
  {
   "cell_type": "markdown",
   "metadata": {},
   "source": [
    "## Describe bisection algorithm"
   ]
  },
  {
   "cell_type": "code",
   "execution_count": 8,
   "metadata": {},
   "outputs": [
    {
     "name": "stdout",
     "output_type": "stream",
     "text": [
      "analytical solution is: c1 = 0.511, c2 = 0.509\n",
      "numerical solution is: c1 = 0.511, c2 = 0.509\n",
      "analytical and numerical solution are equal with numerical precision: c1: True c2: True\n"
     ]
    }
   ],
   "source": [
    "# solve analytically and numerically\n",
    "\n",
    "c1_s, c2_s = modelproject.solve_for_consumption(m1,r,beta,rho)\n",
    "\n",
    "print(f'analytical solution is: c1 = {c1_func(m1,r,beta,rho):.3f}, c2 = {c2_func(m1,r,beta,rho):.3f}')\n",
    "print(f'numerical solution is: c1 = {c1_s:.3f}, c2 = {c2_s:.3f}')\n",
    "print(f'analytical and numerical solution are equal with numerical precision: c1: {np.isclose(c1_func(m1,r,beta,rho),c1_s)} c2: {np.isclose(c2_func(m1,r,beta,rho),c2_s)}')"
   ]
  },
  {
   "cell_type": "markdown",
   "metadata": {},
   "source": [
    "# Model Extension"
   ]
  },
  {
   "cell_type": "markdown",
   "metadata": {},
   "source": [
    "Define the following **variables** and **parameters**:\n",
    "\n",
    "* $m_t$ is cash-on-hand in period $t$\n",
    "* $c_t$ is non-durable consumption in period $t$\n",
    "#* $d_t$ is durable consumption in period $t$ (only adjustable in period 1)\n",
    "* $y_t$ is income in period $t$\n",
    "* $\\Delta \\in (0,1)$ is income risk\n",
    "* $r$ is the interest rate\n",
    "* $\\beta > 0$, $\\rho > 1$, $\\alpha \\in (0,1)$, $\\nu > 0 $, $\\kappa > 0$, $\\xi > 0$ are utility parameters\n",
    "\n",
    "Furthermore, we introduce $\\tau$ as the bequest taxation rate $0<\\tau<1$\n"
   ]
  },
  {
   "cell_type": "markdown",
   "metadata": {},
   "source": [
    "Define the following **variables** and **parameters**:\n",
    "\n",
    "* $m_t$ is cash-on-hand in period $t$\n",
    "* $c_t$ is consumption in period $t$\n",
    "* $y_t$ is income in period $t$\n",
    "* $\\Delta$ is an income shock\n",
    "* $r$ is the interest rate\n",
    "* $\\beta > 0$, $\\rho > 1$, $\\nu > 0 $, $\\kappa > 0$, $\\xi > 0$ are utility parameters"
   ]
  },
  {
   "cell_type": "markdown",
   "metadata": {},
   "source": [
    "In the **second period** the household solves:\n",
    "\n",
    "$$\n",
    "\\begin{aligned}\n",
    "v_{2}(m_{2}) &= \\max_{c_{2}}\\frac{c_{2}^{1-\\rho}}{1-\\rho}+\\nu\\frac{(m_{2}-c_{2}+\\kappa)^{1-\\rho}}{1-\\rho} \\\\\n",
    " \\text{s.t.} \\\\\n",
    "c_{2} & \\in [0,m_{2}]\n",
    "\\end{aligned}\n",
    "$$"
   ]
  },
  {
   "cell_type": "markdown",
   "metadata": {},
   "source": [
    "In the **first period** the household solves:\n",
    "\n",
    "$$\n",
    "\\begin{aligned}\n",
    "v_{1}(m_{1}) & = \n",
    "\\max_{c_{1}}\\frac{c_{1}^{1-\\rho}}{1-\\rho}+\\beta\\mathbb{E}_{1}\\left[v_2(m_2)\\right] \\\\\n",
    "\\text{s.t.} \\\\\n",
    "m_2 &= (1+r)(m_{1}-c_{1})+y_{2} \\\\\n",
    "y_{2} &= \\begin{cases}\n",
    "1-\\Delta & \\text{with prob. }0.5\\\\\n",
    "1+\\Delta & \\text{with prob. }0.5 \n",
    "\\end{cases}\\\\\n",
    "c_{1} & \\in [0,m_{1}]\\\\\n",
    "\\end{aligned}\n",
    "$$"
   ]
  },
  {
   "cell_type": "markdown",
   "metadata": {},
   "source": [
    "First we define all new **symbols**:"
   ]
  },
  {
   "cell_type": "code",
   "execution_count": 17,
   "metadata": {},
   "outputs": [],
   "source": [
    "kappa = 0.5\n",
    "nu = 0.1\n",
    "Delta = 0.5\n",
    "r = 0.04\n",
    "beta = 0.94\n",
    "rho = 8"
   ]
  },
  {
   "cell_type": "markdown",
   "metadata": {},
   "source": [
    "lav senere\n"
   ]
  },
  {
   "cell_type": "markdown",
   "metadata": {},
   "source": [
    "## Defining value functions"
   ]
  },
  {
   "cell_type": "markdown",
   "metadata": {},
   "source": [
    "To start, we define the **basic functions** and use them to build the **value functions**:"
   ]
  },
  {
   "cell_type": "code",
   "execution_count": 3,
   "metadata": {},
   "outputs": [],
   "source": [
    "def utility(c,rho):\n",
    "    return c**(1-rho)/(1-rho)\n",
    "\n",
    "def bequest(m,c,nu,kappa,rho):\n",
    "    return nu*(m-c+kappa)**(1-rho)/(1-rho)\n",
    "\n",
    "def v2(c2,m2,rho,nu,kappa):\n",
    "    return utility(c2,rho) + bequest(m2,c2,nu,kappa,rho)\n",
    "\n",
    "def v1(c1,m1,rho,beta,r,Delta,v2_interp):\n",
    "    \n",
    "    # a. v2 value, if low income\n",
    "    m2_low = (1+r)*(m1-c1) + 1-Delta\n",
    "    v2_low = v2_interp([m2_low])[0]\n",
    "    \n",
    "    # b. v2 value, if high income\n",
    "    m2_high = (1+r)*(m1-c1) + 1+Delta\n",
    "    v2_high = v2_interp([m2_high])[0]\n",
    "    \n",
    "    # c. expected v2 value\n",
    "    v2 = 0.5*v2_low + 0.5*v2_high\n",
    "    \n",
    "    # d. total value\n",
    "    return utility(c1,rho) + beta*v2"
   ]
  },
  {
   "cell_type": "markdown",
   "metadata": {},
   "source": [
    "Next, we set up the **solution functions**, in the spirit of backwards induction beginning by period 2:"
   ]
  },
  {
   "cell_type": "code",
   "execution_count": 4,
   "metadata": {},
   "outputs": [],
   "source": [
    "def solve_period_2(rho,nu,kappa,Delta):\n",
    "\n",
    "    # a. grids\n",
    "    m2_vec = np.linspace(1e-8,5,500)\n",
    "    v2_vec = np.empty(500)\n",
    "    c2_vec = np.empty(500)\n",
    "\n",
    "    # b. solve for each m2 in grid\n",
    "    for i,m2 in enumerate(m2_vec):\n",
    "\n",
    "        # i. objective\n",
    "        obj = lambda c2: -v2(c2,m2,rho,nu,kappa)\n",
    "\n",
    "        # ii. initial value (consume half)\n",
    "        x0 = m2/2\n",
    "\n",
    "        # iii. optimizer\n",
    "        result = optimize.minimize_scalar(obj,x0,method='bounded',bounds=[1e-8,m2])\n",
    "\n",
    "        # iv. save\n",
    "        v2_vec[i] = -result.fun\n",
    "        c2_vec[i] = result.x\n",
    "        \n",
    "    return m2_vec,v2_vec,c2_vec\n",
    "\n",
    "def solve_period_1(rho,beta,r,Delta,v2_interp,v1): # try without v1 as input\n",
    "\n",
    "    # a. grids\n",
    "    m1_vec = np.linspace(1e-8,4,100)\n",
    "    v1_vec = np.empty(100)\n",
    "    c1_vec = np.empty(100)\n",
    "    \n",
    "    # b. solve for each m1 in grid\n",
    "    for i,m1 in enumerate(m1_vec):\n",
    "        \n",
    "        # i. objective\n",
    "        obj = lambda c1: -v1(c1,m1,rho,beta,r,Delta,v2_interp)\n",
    "        \n",
    "        # ii. initial guess (consume half)\n",
    "        x0 = m1*1/2\n",
    "        \n",
    "        # iii. optimize\n",
    "        result = optimize.minimize_scalar(obj,x0,method='bounded',bounds=[1e-8,m1])\n",
    "        \n",
    "        # iv. save\n",
    "        v1_vec[i] = -result.fun\n",
    "        c1_vec[i] = result.x\n",
    "     \n",
    "    return m1_vec,v1_vec,c1_vec"
   ]
  },
  {
   "cell_type": "markdown",
   "metadata": {},
   "source": [
    "Samle solve funktionen"
   ]
  },
  {
   "cell_type": "code",
   "execution_count": 5,
   "metadata": {},
   "outputs": [
    {
     "data": {
      "image/png": "[encoded data removed]",
      "text/plain": [
       "<Figure size 432x288 with 1 Axes>"
      ]
     },
     "metadata": {
      "needs_background": "light"
     },
     "output_type": "display_data"
    }
   ],
   "source": [
    "# b. solve\n",
    "def solve(rho,beta,r,Delta,nu,kappa,v1):\n",
    "    \n",
    "    # a. solve period 2\n",
    "    m2_vec,v2_vec,c2_vec = solve_period_2(rho,nu,kappa,Delta)\n",
    "    \n",
    "    # b. construct interpolator\n",
    "    v2_interp = interpolate.RegularGridInterpolator((m2_vec,), v2_vec,\n",
    "                                                    bounds_error=False,fill_value=None)\n",
    "    \n",
    "    # b. solve period 1\n",
    "    m1_vec,v1_vec,c1_vec = solve_period_1(rho,beta,r,Delta,v2_interp,v1)\n",
    "    \n",
    "    return m1_vec,c1_vec,m2_vec,c2_vec\n",
    "\n",
    "m1_vec,c1_vec,m2_vec,c2_vec = solve(rho,beta,r,Delta,nu,kappa,v1)\n",
    "\n",
    "# c. plot\n",
    "fig = plt.figure()\n",
    "ax = fig.add_subplot(1,1,1)\n",
    "ax.plot(m1_vec,c1_vec)\n",
    "ax.set_xlabel('$m_1$')\n",
    "ax.set_ylabel('$c_1$')\n",
    "ax.set_title('consumption function in period 1')\n",
    "ax.set_xlim([0,4])\n",
    "ax.set_ylim([0,2.5]);"
   ]
  },
  {
   "cell_type": "markdown",
   "metadata": {},
   "source": [
    "Now we introduce an alternative risk structure, namely\n",
    "\n",
    "$$ \n",
    "y_{2} = \\begin{cases}\n",
    "1-\\sqrt{\\Delta} & \\text{with prob. }0.1\\\\\n",
    "1-\\Delta & \\text{with prob. }0.4\\\\\n",
    "1+\\Delta & \\text{with prob. }0.4\\\\ \n",
    "1+\\sqrt{\\Delta} & \\text{with prob. }0.1\n",
    "\\end{cases}\n",
    "$$\n",
    "\n",
    "which add some low probability tail events, but does not change mean income. This calls for an alternative period 1 solution"
   ]
  },
  {
   "cell_type": "code",
   "execution_count": 6,
   "metadata": {},
   "outputs": [
    {
     "data": {
      "image/png": "[encoded data removed]",
      "text/plain": [
       "<Figure size 432x288 with 1 Axes>"
      ]
     },
     "metadata": {
      "needs_background": "light"
     },
     "output_type": "display_data"
    }
   ],
   "source": [
    "def v1_alt(c1,m1,rho,beta,r,Delta,v2_interp):\n",
    "    \n",
    "    # a. expected v2 value\n",
    "    Ra = (1+r)*(m1-c1)\n",
    "    v2 = 0\n",
    "    y2s = [1-np.sqrt(Delta),1-Delta,1+Delta,1+np.sqrt(Delta)]\n",
    "    probs = [0.1,0.4,0.4,0.1]\n",
    "    for y2,prob in zip(y2s,probs):\n",
    "        m2 = Ra + y2\n",
    "        v2 += prob*v2_interp([m2])[0]\n",
    "        \n",
    "    # b. total value\n",
    "    return utility(c1,rho) + beta*v2\n",
    "\n",
    "m1_vec_alt,c1_vec_alt,m2_vec_alt,c2_vec_alt = solve(rho,beta,r,Delta,nu,kappa,v1_alt)\n",
    "\n",
    "# plot\n",
    "fig = plt.figure()\n",
    "ax = fig.add_subplot(1,1,1)\n",
    "ax.plot(m1_vec,c1_vec,label='original')\n",
    "ax.plot(m1_vec_alt,c1_vec_alt,label='new')\n",
    "ax.legend(loc='upper left')\n",
    "ax.set_xlabel('$m_1$')\n",
    "ax.set_ylabel('$c_1$')\n",
    "ax.set_title('consumption function in periode 1')\n",
    "ax.set_xlim([0,4])\n",
    "ax.set_ylim([0,2.5]);"
   ]
  },
  {
   "cell_type": "code",
   "execution_count": 7,
   "metadata": {},
   "outputs": [],
   "source": [
    "# plot something interesting"
   ]
  },
  {
   "cell_type": "markdown",
   "metadata": {},
   "source": [
    "## Simulation"
   ]
  },
  {
   "cell_type": "markdown",
   "metadata": {},
   "source": [
    "**Step 1:** Solve and construct interpolators:"
   ]
  },
  {
   "cell_type": "code",
   "execution_count": 76,
   "metadata": {},
   "outputs": [],
   "source": [
    "Delta = 0.5\n",
    "\n",
    "# initial draw of cash on hand\n",
    "seed = np.random.seed(2020)\n",
    "simN = 10000\n",
    "sim_m1 = np.fmax(np.random.normal(1,0.1,size=simN),0) # \"randomly\" chosen distribution"
   ]
  },
  {
   "cell_type": "code",
   "execution_count": 77,
   "metadata": {},
   "outputs": [],
   "source": [
    "# b. simulate and plot for v1 risk\n",
    "m1_vec,c1_vec,m2_vec,c2_vec = solve(rho,beta,r,Delta,nu,kappa,v1)\n",
    "c1_interp = interpolate.RegularGridInterpolator([m1_vec], c1_vec,\n",
    "                                                bounds_error=False,fill_value=None)\n",
    "c2_interp = interpolate.RegularGridInterpolator([m2_vec], c2_vec,\n",
    "                                                bounds_error=False,fill_value=None)\n",
    "# b. period 1\n",
    "sim_c1 = c1_interp(sim_m1)\n",
    "sim_a1 = sim_m1-sim_c1\n",
    "\n",
    "# c. transition to period 2 with random draw\n",
    "sim_m2 = (1+r)*sim_a1+np.random.choice([0.5,1.5],p=[0.5,0.5])\n",
    "\n",
    "# d. period 2\n",
    "sim_c2 = c2_interp(sim_m2)"
   ]
  },
  {
   "cell_type": "code",
   "execution_count": 78,
   "metadata": {},
   "outputs": [],
   "source": [
    "# b. simulate and plot for v1_alt risk\n",
    "#m1_vec_alt,c1_vec_alt,m2_vec_alt,c2_vec_alt = solve(rho,beta,r,Delta,nu,kappa,v1_alt)\n",
    "#c1_interp_alt = interpolate.RegularGridInterpolator([m1_vec_alt], c1_vec_alt,\n",
    "#                                                bounds_error=False,fill_value=None)\n",
    "#c2_interp_alt = interpolate.RegularGridInterpolator([m2_vec_alt], c2_vec_alt,\n",
    "#                                                bounds_error=False,fill_value=None)\n",
    "# b. period 1\n",
    "#sim_c1_alt = c1_interp_alt(sim_m1)\n",
    "#sim_a1_alt = sim_m1-sim_c1_alt\n",
    "\n",
    "# c. transition to period 2 with random draw\n",
    "#sim_m2_alt = (1+r)*sim_a1_alt+np.random.choice([(1-np.sqrt(0.5)),0.5,1.5,(1+np.sqrt(0.5))],p=[0.1,0.4,0.4,0.1])\n",
    "\n",
    "# d. period 2\n",
    "#sim_c2_alt = c2_interp_alt(sim_m2_alt)"
   ]
  },
  {
   "cell_type": "code",
   "execution_count": 79,
   "metadata": {},
   "outputs": [
    {
     "data": {
      "image/png": "[encoded data removed]",
      "text/plain": [
       "<Figure size 720x360 with 1 Axes>"
      ]
     },
     "metadata": {
      "needs_background": "light"
     },
     "output_type": "display_data"
    }
   ],
   "source": [
    "# plot\n",
    "fig = plt.figure(figsize=(10,5))\n",
    "ax = fig.add_subplot(1,1,1)\n",
    "\n",
    "ax.hist(sim_c1,bins=100,label=f'period 1, v1')\n",
    "ax.hist(sim_c2,bins=100,label=f'period 2, v1')\n",
    "\n",
    "#ax.hist(sim_c1_alt,bins=100,label=f'period 1, v1_alt')\n",
    "#ax.hist(sim_c2_alt,bins=100,label=f'period 2, v1_alt')\n",
    "\n",
    "ax.legend(loc='lower right',facecolor='white',frameon=True)\n",
    "ax.set_xlabel('$c_t$')\n",
    "ax.set_ylabel('freq.')\n",
    "ax.set_title('consumption'); "
   ]
  },
  {
   "cell_type": "markdown",
   "metadata": {},
   "source": [
    "# Conclusion"
   ]
  },
  {
   "cell_type": "markdown",
   "metadata": {},
   "source": [
    "ADD CONCISE CONCLUSION."
   ]
  }
 ],
 "metadata": {
  "kernelspec": {
   "display_name": "Python 3",
   "language": "python",
   "name": "python3"
  },
  "language_info": {
   "codemirror_mode": {
    "name": "ipython",
    "version": 3
   },
   "file_extension": ".py",
   "mimetype": "text/x-python",
   "name": "python",
   "nbconvert_exporter": "python",
   "pygments_lexer": "ipython3",
   "version": "3.7.4"
  },
  "toc-autonumbering": true
 },
 "nbformat": 4,
 "nbformat_minor": 4
}
