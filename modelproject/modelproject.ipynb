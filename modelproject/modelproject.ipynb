{
 "cells": [
  {
   "cell_type": "markdown",
   "metadata": {},
   "source": [
    "# Model Project - Dynamic Optimization With and Without Income Risk\n",
    "\n",
    "**Team:** Kongerækken\n",
    "\n",
    "**Members:** Frederik Degn Pedersen and Christian Brauer Johanssen\n",
    "\n",
    "**Project description:** Throughout this project, we employ a two period model of consumer behavior. Initially, we perform analysis using `sympy` on a simple version of the model only featuring consumption goods and an initial cash endowment. Next, we expand the model to include income in the second period as well as a utility providing altruistic/inheritance motive. Finally, we expand the model further by introducing two different risk structures and compare consumer behavior acrossspecifications. "
   ]
  },
  {
   "cell_type": "markdown",
   "metadata": {},
   "source": [
    "Imports and set magics:"
   ]
  },
  {
   "cell_type": "code",
   "execution_count": 20,
   "metadata": {},
   "outputs": [
    {
     "name": "stdout",
     "output_type": "stream",
     "text": [
      "The autoreload extension is already loaded. To reload it, use:\n",
      "  %reload_ext autoreload\n"
     ]
    }
   ],
   "source": [
    "# importing relevant packages\n",
    "import numpy as np\n",
    "import matplotlib.pyplot as plt\n",
    "plt.style.use('seaborn-whitegrid')\n",
    "import ipywidgets as widgets\n",
    "import time\n",
    "from scipy import optimize\n",
    "from scipy import interpolate\n",
    "import sympy as sm\n",
    "from IPython.display import display\n",
    "\n",
    "%matplotlib inline\n",
    "import matplotlib.pyplot as plt\n",
    "plt.style.use('seaborn-whitegrid')\n",
    "from matplotlib import cm\n",
    "from mpl_toolkits.mplot3d import Axes3D\n",
    "from matplotlib.widgets import Slider\n",
    "\n",
    "# autoreload modules when code is run\n",
    "%load_ext autoreload\n",
    "%autoreload 2\n",
    "\n",
    "# local module\n",
    "import modelproject"
   ]
  },
  {
   "cell_type": "markdown",
   "metadata": {
    "toc-hr-collapsed": true
   },
   "source": [
    "# Model Analysis - The Simple Case"
   ]
  },
  {
   "cell_type": "markdown",
   "metadata": {},
   "source": [
    "To start, we consider a simple two period consumer problem without uncertainty, where the following definitions of **variables** and **parameters** apply:\n",
    "\n",
    "* $m$ is the endowment (cash-on-hand). In this simplified version the consumer only get an endowment in period 1.\n",
    "* $c$ is consumption\n",
    "* $r$ is the interest rate\n",
    "* $\\beta > 0$, $\\rho > 1$ are utility parameters (subjective discount factor and coefficient of risk aversion)\n",
    "* Subscripts denotes periods\n",
    "\n",
    "Assuming CRRA utility from consumption in both periods, the combined utility function, $U$, can be written as \n",
    "\n",
    "$$\n",
    "\\begin{align}\n",
    "    U &= \\max_{c_1,c_2}\\frac{c_1^{1-\\rho}}{1-\\rho}+\\beta\\frac{c_2^{1-\\rho}}{1-\\rho} \\\\\n",
    "    \\text{s.t.} \\\\\n",
    "    c_2 &= (1+r)(m_1-c_1) \\\\\n",
    "    c_{1} &\\in [0,m_{1}] \\\\\n",
    "\\end{align}\n",
    "$$\n",
    "\n",
    "where the constraint on consumption in period 2 results from the intertemporal budget constraint. Borrowing is not possible by the second constraint. "
   ]
  },
  {
   "cell_type": "markdown",
   "metadata": {},
   "source": [
    "## Analysis Using `sympy`\n",
    "As this simple version of the model has a nice, closed form solution, we can use sympy to solve analytically for optimal consumption as follows: \n",
    "* First, we define all symbols\n",
    "* Next, we define the objective function ($U$)\n",
    "* Then we define the budget constraint and solve it for $c_2$\n",
    "* Ultimately we substitute for $c_2$ in the objective function and differentiate with respect to $c_1$"
   ]
  },
  {
   "cell_type": "code",
   "execution_count": 21,
   "metadata": {},
   "outputs": [
    {
     "data": {
      "text/latex": [
       "$\\displaystyle \\frac{\\beta \\left(- r - 1\\right) \\left(- c_{1} r - c_{1} + m_{1} r + m_{1}\\right)^{1 - \\rho}}{- c_{1} r - c_{1} + m_{1} r + m_{1}} + \\frac{c_{1}^{1 - \\rho}}{c_{1}}$"
      ],
      "text/plain": [
       "beta*(-r - 1)*(-c_1*r - c_1 + m_1*r + m_1)**(1 - rho)/(-c_1*r - c_1 + m_1*r + m_1) + c_1**(1 - rho)/c_1"
      ]
     },
     "execution_count": 21,
     "metadata": {},
     "output_type": "execute_result"
    }
   ],
   "source": [
    "# define symbols\n",
    "m1 = sm.symbols('m_1')\n",
    "c1 = sm.symbols('c_1')\n",
    "c2 = sm.symbols('c_2')\n",
    "r = sm.symbols('r')\n",
    "beta = sm.symbols('beta')\n",
    "rho = sm.symbols('rho')\n",
    "\n",
    "# define objective\n",
    "m2 = (1+r)*(m1-c1)\n",
    "obj = c1**(1-rho)/(1-rho)+beta*(c2**(1-rho)/(1-rho))\n",
    "\n",
    "# define constraint and solve for c2\n",
    "cons = sm.Eq(c2,(1+r)*(m1-c1))\n",
    "c2_from_cons = sm.solve(cons,c2)\n",
    "\n",
    "# substitute for c2 and take first order conditions\n",
    "obj_subs = obj.subs(c2,c2_from_cons[0])\n",
    "\n",
    "dU_dc1 = sm.diff(obj_subs,c1)\n",
    "dU_dc1"
   ]
  },
  {
   "cell_type": "markdown",
   "metadata": {},
   "source": [
    "Before we can solve for optimal consumption in period 1, we need to help `sympy` understand that the above expression is equal to \n",
    "\n",
    "$$\n",
    "\\begin{align}\n",
    "    \\frac{1}{c_1} &= \\frac{\\left(\\beta(1+r)\\right)^\\frac{1}{\\rho}}{(1+r)(m_1-c_1)}\n",
    "\\end{align}\n",
    "$$"
   ]
  },
  {
   "cell_type": "code",
   "execution_count": 22,
   "metadata": {},
   "outputs": [
    {
     "data": {
      "text/latex": [
       "$\\displaystyle \\frac{1}{c_{1}} = \\frac{\\left(\\beta \\left(r + 1\\right)\\right)^{\\frac{1}{\\rho}}}{\\left(- c_{1} + m_{1}\\right) \\left(r + 1\\right)}$"
      ],
      "text/plain": [
       "Eq(1/c_1, (beta*(r + 1))**(1/rho)/((-c_1 + m_1)*(r + 1)))"
      ]
     },
     "metadata": {},
     "output_type": "display_data"
    }
   ],
   "source": [
    "# help sympy collect terms\n",
    "dU_dc1_simple = sm.Eq(1/c1,(beta*(1+r))**(1/rho)/((1+r)*(m1-c1)))\n",
    "display(dU_dc1_simple)"
   ]
  },
  {
   "cell_type": "code",
   "execution_count": 23,
   "metadata": {},
   "outputs": [
    {
     "data": {
      "text/latex": [
       "$\\displaystyle \\frac{m_{1} \\left(r + 1\\right)}{r + \\left(\\beta \\left(r + 1\\right)\\right)^{\\frac{1}{\\rho}} + 1}$"
      ],
      "text/plain": [
       "m_1*(r + 1)/(r + (beta*(r + 1))**(1/rho) + 1)"
      ]
     },
     "execution_count": 23,
     "metadata": {},
     "output_type": "execute_result"
    }
   ],
   "source": [
    "# solve for optimal c1\n",
    "c1_star_solve = sm.solve(dU_dc1_simple,c1)\n",
    "c1_star = c1_star_solve[0]\n",
    "c1_star"
   ]
  },
  {
   "cell_type": "markdown",
   "metadata": {},
   "source": [
    "From the above expression it can easily be observed that period 1 consumption is increasing in $m_1$ (more cash, more consumption) and decreasing in $\\beta$ (higher patience, lower period 1 consumption), whereas the effect from the interest rate is more convoluted. This is because we have counteracting income and substitution effects that does not cancel out due to the fact that we have not assumed log-utility.\n",
    "\n",
    "Inserting the above expression for $c_1$ we can residually compute the optimal level of second period consumption:"
   ]
  },
  {
   "cell_type": "code",
   "execution_count": 24,
   "metadata": {},
   "outputs": [
    {
     "data": {
      "text/latex": [
       "$\\displaystyle \\frac{m_{1} \\left(\\beta \\left(r + 1\\right)\\right)^{\\frac{1}{\\rho}} \\left(r + 1\\right)}{r + \\left(\\beta \\left(r + 1\\right)\\right)^{\\frac{1}{\\rho}} + 1}$"
      ],
      "text/plain": [
       "m_1*(beta*(r + 1))**(1/rho)*(r + 1)/(r + (beta*(r + 1))**(1/rho) + 1)"
      ]
     },
     "execution_count": 24,
     "metadata": {},
     "output_type": "execute_result"
    }
   ],
   "source": [
    "# compute optimal c2\n",
    "cons_subs = cons.subs(c1,c1_star)\n",
    "c2_star_solve = sm.solve(cons_subs,c2)\n",
    "c2_star = c2_star_solve[0]\n",
    "c2_star"
   ]
  },
  {
   "cell_type": "markdown",
   "metadata": {},
   "source": [
    "To be able to insert parameter values in the analytical solution, we turn the sympy functions into actual functions using sm.lambdify:"
   ]
  },
  {
   "cell_type": "code",
   "execution_count": 25,
   "metadata": {},
   "outputs": [],
   "source": [
    "# lambdify functions for c1 and c2\n",
    "c1_func = sm.lambdify((m1,r,beta,rho),c1_star)\n",
    "c2_func = sm.lambdify((m1,r,beta,rho),c2_star)"
   ]
  },
  {
   "cell_type": "markdown",
   "metadata": {},
   "source": [
    "## Numerical Solution Using an Algorithm \n",
    "Given some parameter values, it is also possible to solve numerically for optimal consumption in both periods. Particularly, we can set period 1 optimal consumption equal to zero to make it a root finding problem:\n",
    "$$\n",
    "\\begin{align}\n",
    "    0 &= \\frac{1}{c_1} - \\frac{\\left(\\beta(1+r)\\right)^\\frac{1}{\\rho}}{(1+r)(m_1-c_1)}\n",
    "\\end{align}\n",
    "$$\n",
    "\n",
    "There are several algorithms that can solve such a problem. In the module, we define a function which uses the **bisection** method to find the root. This method is convenient in this particular setting, as we do not have to calculate derivatives. The way the algorithm works is that it compares function values over a grid, gradually closing in on the root. A necessary condition for the method to work is that the function values needs to have opposite values in the endpoints, as this ensures that a root exists between the two endpoints. \n",
    "\n",
    "Now, we can define parameter values and use both the analitycally derived functions and the numerical algorithm to find the solution:"
   ]
  },
  {
   "cell_type": "code",
   "execution_count": 27,
   "metadata": {},
   "outputs": [
    {
     "name": "stdout",
     "output_type": "stream",
     "text": [
      "analytical solution is: c1 = 0.511, c2 = 0.509\n",
      "numerical solution is: c1 = 0.511, c2 = 0.509\n",
      "\n",
      "analytical and numerical solution are equal with numerical precision: \n",
      "c1: True \n",
      "c2: True\n"
     ]
    }
   ],
   "source": [
    "# define parameter values\n",
    "m1 = 1\n",
    "r = 0.04\n",
    "beta = 0.94\n",
    "rho = 8\n",
    "\n",
    "# solve analytically and numerically\n",
    "c1_s, c2_s = modelproject.solve_for_consumption(m1,r,beta,rho)\n",
    "\n",
    "print(f'analytical solution is: c1 = {c1_func(m1,r,beta,rho):.3f}, c2 = {c2_func(m1,r,beta,rho):.3f}')\n",
    "print(f'numerical solution is: c1 = {c1_s:.3f}, c2 = {c2_s:.3f}\\n')\n",
    "print(f'analytical and numerical solution are equal with numerical precision: \\nc1: {np.isclose(c1_func(m1,r,beta,rho),c1_s)} \\nc2: {np.isclose(c2_func(m1,r,beta,rho),c2_s)}')"
   ]
  },
  {
   "cell_type": "markdown",
   "metadata": {},
   "source": [
    "# Model Extension"
   ]
  },
  {
   "cell_type": "markdown",
   "metadata": {},
   "source": [
    "Now we introduce income in the second period as well as letting the consumer obtain utility for leaving a bequest for its heirs. Define the following additional **variables** and **parameters**:\n",
    "\n",
    "* $y_t$ is income in period $t$\n",
    "* $\\nu > 0 $, $\\kappa > 0$ are utility parameters"
   ]
  },
  {
   "cell_type": "markdown",
   "metadata": {},
   "source": [
    "In the **second period** the household solves:\n",
    "\n",
    "$$\n",
    "\\begin{aligned}\n",
    "v_{2}(m_{2}) &= \\max_{c_{2}}\\frac{c_{2}^{1-\\rho}}{1-\\rho}+\\nu\\frac{(m_{2}-c_{2}+\\kappa)^{1-\\rho}}{1-\\rho} \\\\\n",
    " \\text{s.t.} \\\\\n",
    "c_{2} & \\in [0,m_{2}]\n",
    "\\end{aligned}\n",
    "$$"
   ]
  },
  {
   "cell_type": "markdown",
   "metadata": {},
   "source": [
    "In the **first period** the household solves:\n",
    "\n",
    "$$\n",
    "\\begin{aligned}\n",
    "v_{1}(m_{1}) & = \n",
    "\\max_{c_{1}}\\frac{c_{1}^{1-\\rho}}{1-\\rho}+\\beta\\mathbb{E}_{1}\\left[v_2(m_2)\\right] \\\\\n",
    "\\text{s.t.} \\\\\n",
    "m_2 &= (1+r)(m_{1}-c_{1})+y_{2} \\\\\n",
    "y_{2} &= 1\\\\\n",
    "c_{1} & \\in [0,m_{1}]\\\\\n",
    "\\end{aligned}\n",
    "$$"
   ]
  },
  {
   "cell_type": "markdown",
   "metadata": {},
   "source": [
    "First we define parameter values for all new **symbols**:"
   ]
  },
  {
   "cell_type": "code",
   "execution_count": 8,
   "metadata": {},
   "outputs": [],
   "source": [
    "kappa = 0.5\n",
    "nu = 0.1\n",
    "Delta = 0.5 # for later use\n",
    "r = 0.04\n",
    "beta = 0.94\n",
    "rho = 8"
   ]
  },
  {
   "cell_type": "markdown",
   "metadata": {},
   "source": [
    "# The risk free case\n",
    "To solve this more elaborate dynamic optimization problem, we use the dynamic programming approach covered in Lecture 11."
   ]
  },
  {
   "cell_type": "markdown",
   "metadata": {},
   "source": [
    "## Defining value functions and solution functions"
   ]
  },
  {
   "cell_type": "markdown",
   "metadata": {},
   "source": [
    "To start, we define the **basic functions** and use them to build the **value functions**:"
   ]
  },
  {
   "cell_type": "code",
   "execution_count": 9,
   "metadata": {},
   "outputs": [],
   "source": [
    "# basic functions\n",
    "def utility(c,rho):\n",
    "    return c**(1-rho)/(1-rho)\n",
    "\n",
    "def bequest(m,c,nu,kappa,rho):\n",
    "    return nu*(m-c+kappa)**(1-rho)/(1-rho)\n",
    "\n",
    "# value functions\n",
    "def v2(c2,m2,rho,nu,kappa):\n",
    "    return utility(c2,rho) + bequest(m2,c2,nu,kappa,rho)\n",
    "\n",
    "def v1(c1,m1,rho,beta,r,Delta,v2_interp):\n",
    "    y2=1\n",
    "    m2 = (1+r)*(m1-c1) + y2 \n",
    "    v2 = v2_interp([m2])[0]\n",
    "\n",
    "    # total value\n",
    "    return utility(c1,rho) + beta*v2"
   ]
  },
  {
   "cell_type": "markdown",
   "metadata": {},
   "source": [
    "Next, we set up the **solution functions**, in the spirit of backwards induction beginning by period 2."
   ]
  },
  {
   "cell_type": "code",
   "execution_count": 10,
   "metadata": {},
   "outputs": [],
   "source": [
    "def solve_period_2(rho,nu,kappa,Delta):\n",
    "\n",
    "    # a. grids\n",
    "    m2_vec = np.linspace(1e-8,5,500) # vector of potential m2 values\n",
    "    v2_vec = np.empty(500)\n",
    "    c2_vec = np.empty(500)\n",
    "\n",
    "    # b. solve for each m2 in grid\n",
    "    for i,m2 in enumerate(m2_vec):\n",
    "\n",
    "        # i. objective\n",
    "        obj = lambda c2: -v2(c2,m2,rho,nu,kappa)\n",
    "\n",
    "        # ii. initial value (consume half)\n",
    "        x0 = m2/2\n",
    "\n",
    "        # iii. optimizer\n",
    "        result = optimize.minimize_scalar(obj,x0,method='bounded',bounds=[1e-8,m2])\n",
    "\n",
    "        # iv. save\n",
    "        v2_vec[i] = -result.fun\n",
    "        c2_vec[i] = result.x\n",
    "        \n",
    "    return m2_vec,v2_vec,c2_vec\n",
    "\n",
    "def solve_period_1(rho,beta,r,Delta,v2_interp,v1):\n",
    "\n",
    "    # a. grids\n",
    "    m1_vec = np.linspace(1e-8,4,100)\n",
    "    v1_vec = np.empty(100)\n",
    "    c1_vec = np.empty(100)\n",
    "    \n",
    "    # b. solve for each m1 in grid\n",
    "    for i,m1 in enumerate(m1_vec):\n",
    "        \n",
    "        # i. objective\n",
    "        obj = lambda c1: -v1(c1,m1,rho,beta,r,Delta,v2_interp)\n",
    "        \n",
    "        # ii. initial guess (consume half)\n",
    "        x0 = m1*1/2\n",
    "        \n",
    "        # iii. optimize\n",
    "        result = optimize.minimize_scalar(obj,x0,method='bounded',bounds=[1e-8,m1])\n",
    "        \n",
    "        # iv. save\n",
    "        v1_vec[i] = -result.fun\n",
    "        c1_vec[i] = result.x\n",
    "     \n",
    "    return m1_vec,v1_vec,c1_vec\n"
   ]
  },
  {
   "cell_type": "markdown",
   "metadata": {},
   "source": [
    "## Joint Solve Function and Plot of Consumption"
   ]
  },
  {
   "cell_type": "code",
   "execution_count": 11,
   "metadata": {},
   "outputs": [],
   "source": [
    "# joint solve function\n",
    "def solve(rho,beta,r,Delta,nu,kappa,v1):\n",
    "    \n",
    "    # a. solve period 2\n",
    "    m2_vec,v2_vec,c2_vec = solve_period_2(rho,nu,kappa,Delta)\n",
    "    \n",
    "    # b. construct interpolator\n",
    "    v2_interp = interpolate.RegularGridInterpolator((m2_vec,), v2_vec,\n",
    "                                                    bounds_error=False,fill_value=None)\n",
    "    \n",
    "    # c. solve period 1\n",
    "    m1_vec,v1_vec,c1_vec = solve_period_1(rho,beta,r,Delta,v2_interp,v1)\n",
    "    \n",
    "    return m1_vec,c1_vec,m2_vec,c2_vec"
   ]
  },
  {
   "cell_type": "code",
   "execution_count": 12,
   "metadata": {},
   "outputs": [
    {
     "data": {
      "image/png": "[encoded data removed]",
      "text/plain": [
       "<Figure size 432x288 with 1 Axes>"
      ]
     },
     "metadata": {
      "needs_background": "light"
     },
     "output_type": "display_data"
    }
   ],
   "source": [
    "# plot risk free consumption\n",
    "m1_vec,c1_vec,m2_vec,c2_vec = solve(rho,beta,r,Delta,nu,kappa,v1)\n",
    "\n",
    "fig = plt.figure()\n",
    "ax = fig.add_subplot(1,1,1)\n",
    "ax.plot(m1_vec,c1_vec)\n",
    "ax.set_xlabel('$m_1$')\n",
    "ax.set_ylabel('$c_1$')\n",
    "ax.set_title('consumption function in period 1 without risk')\n",
    "ax.set_xlim([0,4])\n",
    "ax.set_ylim([0,2.5]);"
   ]
  },
  {
   "cell_type": "markdown",
   "metadata": {},
   "source": [
    "From the figure, it can be observed that the consumer lives \"hand to mouth\" for $m_1$ lower than $\\sim$ 0.8, whereafter the kink in the consumption function indicates that some of the cash increase is saved for period 2, where it can be used for either consumption or altruism."
   ]
  },
  {
   "cell_type": "markdown",
   "metadata": {},
   "source": [
    "# Introduce risk"
   ]
  },
  {
   "cell_type": "markdown",
   "metadata": {},
   "source": [
    "Now we introduce two alternative risk structures, namely\n",
    "\n",
    "$$\n",
    "\\begin{align}\n",
    "y_2^{RISK} &= \\begin{cases}\n",
    "1-\\Delta & \\text{with prob. }0.5\\\\\n",
    "1+\\Delta & \\text{with prob. }0.5 \n",
    "\\end{cases}\\\\\n",
    "\\end{align}\n",
    "$$\n",
    "\n",
    "$$\n",
    "\\begin{align}\n",
    "y_2^{TAILRISK} = \\begin{cases}\n",
    "1-\\sqrt{\\Delta} & \\text{with prob. }0.1\\\\\n",
    "1-\\Delta & \\text{with prob. }0.4\\\\\n",
    "1+\\Delta & \\text{with prob. }0.4\\\\ \n",
    "1+\\sqrt{\\Delta} & \\text{with prob. }0.1\n",
    "\\end{cases}\\\\\n",
    "\\end{align}\n",
    "$$\n",
    "\n",
    "where $\\Delta \\in [0,1]$ is an income shock. The latter risk structure add some low probability tail events. Neither of the risk structures are mean altering. In the local module, we implement solve functions that take into the account the respective risk structures and use these to solve for the two new scenarios. Afterwards, we plot consumption in period 1 and 2 across the three scenarios."
   ]
  },
  {
   "cell_type": "code",
   "execution_count": 13,
   "metadata": {},
   "outputs": [
    {
     "data": {
      "image/png": "[encoded data removed]",
      "text/plain": [
       "<Figure size 1080x360 with 2 Axes>"
      ]
     },
     "metadata": {
      "needs_background": "light"
     },
     "output_type": "display_data"
    }
   ],
   "source": [
    "# solve for risk scenarios\n",
    "m1_vec_r,c1_vec_r,m2_vec_r,c2_vec_r = modelproject.solve_risk(rho,beta,r,Delta,nu,kappa,modelproject.v1_risk)\n",
    "\n",
    "m1_vec_tr,c1_vec_tr,m2_vec_tr,c2_vec_tr = modelproject.solve_risk(rho,beta,r,Delta,nu,kappa,modelproject.v1_tailrisk)\n",
    "\n",
    "# plot all scenarios\n",
    "fig = plt.figure(figsize=(15,5))\n",
    "\n",
    "ax = fig.add_subplot(1,2,1)\n",
    "ax.plot(m1_vec,c1_vec,label='risk free')\n",
    "ax.plot(m1_vec_r,c1_vec_r,label='risk')\n",
    "ax.plot(m1_vec_tr,c1_vec_tr,label='tail risk')\n",
    "\n",
    "ax.legend(loc='upper left')\n",
    "ax.set_xlabel('$m_1$')\n",
    "ax.set_ylabel('$c_1$')\n",
    "ax.set_title('consumption function in period 1')\n",
    "ax.set_xlim([0,4])\n",
    "ax.set_ylim([0,2.5])\n",
    "\n",
    "ax = fig.add_subplot(1,2,2)\n",
    "ax.plot(m2_vec,c2_vec,label='risk free')\n",
    "ax.plot(m2_vec_r,c2_vec_r,label='risk')\n",
    "ax.plot(m2_vec_tr,c2_vec_tr,label='tail risk')\n",
    "\n",
    "ax.legend(loc='upper left')\n",
    "ax.set_xlabel('$m_2$')\n",
    "ax.set_ylabel('$c_2$')\n",
    "ax.set_title('consumption function in period 2')\n",
    "ax.set_xlim([0,4])\n",
    "ax.set_ylim([0,2.5]);"
   ]
  },
  {
   "cell_type": "markdown",
   "metadata": {},
   "source": [
    "It is clear that uncertainty around future livelihood leads to precautionary saving. Also, because agents optimize for given levels of realized income in period 2, the consumption functions will be the same across risk scenarios. The precautionary savings scales with the coefficient of relative risk aversion."
   ]
  },
  {
   "cell_type": "markdown",
   "metadata": {},
   "source": [
    "# Simulation and Scenario Comparison"
   ]
  },
  {
   "cell_type": "markdown",
   "metadata": {},
   "source": [
    "## Simulation"
   ]
  },
  {
   "cell_type": "markdown",
   "metadata": {},
   "source": [
    "To simulate the model for a large number of consumers, we make a draw of 10 000 values of $m_1$ from a normal distribution. Then, for all three scenarios, we use interpolation methods to match the cash on hand level with the correct level of consumption."
   ]
  },
  {
   "cell_type": "code",
   "execution_count": 14,
   "metadata": {},
   "outputs": [],
   "source": [
    "# initial draw of cash on hand\n",
    "seed = np.random.seed(2020)\n",
    "simN = 10000\n",
    "sim_m1 = np.fmax(np.random.normal(1,0.1,size=simN),0) # \"randomly\" chosen distribution"
   ]
  },
  {
   "cell_type": "code",
   "execution_count": 15,
   "metadata": {},
   "outputs": [],
   "source": [
    "# a. simulate and plot for v1\n",
    "m1_vec,c1_vec,m2_vec,c2_vec = solve(rho,beta,r,Delta,nu,kappa,v1)\n",
    "c1_interp = interpolate.RegularGridInterpolator([m1_vec], c1_vec,\n",
    "                                                bounds_error=False,fill_value=None)\n",
    "c2_interp = interpolate.RegularGridInterpolator([m2_vec], c2_vec,\n",
    "                                                bounds_error=False,fill_value=None)\n",
    "# b. period 1\n",
    "sim_c1 = c1_interp(sim_m1)\n",
    "sim_a1 = sim_m1-sim_c1\n",
    "\n",
    "# c. transition to period 2 with random draw\n",
    "sim_m2 = (1+r)*sim_a1+np.random.choice([0.5,1.5],p=[0.5,0.5],size=simN)\n",
    "\n",
    "# d. period 2\n",
    "sim_c2 = c2_interp(sim_m2)"
   ]
  },
  {
   "cell_type": "code",
   "execution_count": 16,
   "metadata": {},
   "outputs": [],
   "source": [
    "# a. simulate and plot for v1_risk\n",
    "m1_vec_r,c1_vec_r,m2_vec_r,c2_vec_r = modelproject.solve_risk(rho,beta,r,Delta,nu,kappa,modelproject.v1_risk)\n",
    "c1_interp_r = interpolate.RegularGridInterpolator([m1_vec_r], c1_vec_r,\n",
    "                                                bounds_error=False,fill_value=None)\n",
    "c2_interp_r = interpolate.RegularGridInterpolator([m2_vec_r], c2_vec_r,\n",
    "                                                bounds_error=False,fill_value=None)\n",
    "# b. period 1\n",
    "sim_c1_r = c1_interp_r(sim_m1)\n",
    "sim_a1_r = sim_m1-sim_c1_r\n",
    "\n",
    "# c. transition to period 2 with random draw\n",
    "sim_m2_r = (1+r)*sim_a1_r+np.random.choice([0.5,1.5],p=[0.5,0.5],size=simN)\n",
    "\n",
    "# d. period 2\n",
    "sim_c2_r = c2_interp_r(sim_m2_r)"
   ]
  },
  {
   "cell_type": "code",
   "execution_count": 17,
   "metadata": {},
   "outputs": [],
   "source": [
    "# b. simulate and plot for v1_tailrisk\n",
    "m1_vec_tr,c1_vec_tr,m2_vec_tr,c2_vec_tr = modelproject.solve_risk(rho,beta,r,Delta,nu,kappa,modelproject.v1_tailrisk)\n",
    "c1_interp_tr = interpolate.RegularGridInterpolator([m1_vec_tr], c1_vec_tr,\n",
    "                                                bounds_error=False,fill_value=None)\n",
    "c2_interp_tr = interpolate.RegularGridInterpolator([m2_vec_tr], c2_vec_tr,\n",
    "                                                bounds_error=False,fill_value=None)\n",
    "# b. period 1\n",
    "sim_c1_tr = c1_interp_tr(sim_m1)\n",
    "sim_a1_tr = sim_m1-sim_c1_tr\n",
    "\n",
    "# c. transition to period 2 with random draw\n",
    "sim_m2_tr = (1+r)*sim_a1_tr+np.random.choice([(1-np.sqrt(0.5)),0.5,1.5,(1+np.sqrt(0.5))],p=[0.1,0.4,0.4,0.1],size=simN)\n",
    "\n",
    "# d. period 2\n",
    "sim_c2_tr = c2_interp_tr(sim_m2_tr)"
   ]
  },
  {
   "cell_type": "code",
   "execution_count": 18,
   "metadata": {},
   "outputs": [
    {
     "data": {
      "image/png": "[encoded data removed]",
      "text/plain": [
       "<Figure size 720x360 with 1 Axes>"
      ]
     },
     "metadata": {
      "needs_background": "light"
     },
     "output_type": "display_data"
    }
   ],
   "source": [
    "# plot\n",
    "fig = plt.figure(figsize=(10,5))\n",
    "ax = fig.add_subplot(1,1,1)\n",
    "\n",
    "ax.hist(sim_c1,bins=100,label=f'period 1 (risk free)')\n",
    "#ax.hist(sim_c2,bins=100,label=f'period 2, v1')\n",
    "\n",
    "ax.hist(sim_c1_r,bins=100,label=f'period 1 (risk)')\n",
    "#ax.hist(sim_c2_r,bins=100,label=f'period 2 (risk)')\n",
    "\n",
    "ax.hist(sim_c1_tr,bins=100,label=f'period 1 (tail risk)')\n",
    "#ax.hist(sim_c2_tr,bins=100,label=f'period 2 (tail risk)')\n",
    "\n",
    "ax.legend(loc='lower right',facecolor='white',frameon=True)\n",
    "ax.set_xlabel('$c_t$')\n",
    "ax.set_ylabel('freq.')\n",
    "ax.set_title('consumption'); "
   ]
  },
  {
   "cell_type": "markdown",
   "metadata": {},
   "source": [
    "As is evident from the figure, the precautionary savings effect carries over from the representative consumer to the heterogeneous simulation."
   ]
  },
  {
   "cell_type": "markdown",
   "metadata": {},
   "source": [
    "# Conclusion\n",
    "In this project, we have applied various model analysis methods to a gradually expanding two period model of consumer behavior. initially, we performed analytical and numerical optimization of a simplified, risk free model using `sympy` and the **bisect** method. Next, we expanded the model; first with second period income and second with two types of income risk. Finally, we performed a simulation introducing heterogeneity in the initial endowment of cash on hand. "
   ]
  },
  {
   "cell_type": "markdown",
   "metadata": {},
   "source": [
    "## Disclaimer and call for creative (and feasible) ideas\n",
    "\n",
    "We are aware that our project follows material from the lectures and exercise classes quite closely. When working on the assignment, we both discussed and tried implementing several model extensions (example given more sophisticated income shock distributions, introducing an inheritance tax etc.). However, our ideas proved either to bequite hard to implement given our limited programming knowledge, or to yield very uninteresting results. **Therefore, we would be very grateful for any suggestion on how to extend the model in an interesting and feasible way.**"
   ]
  }
 ],
 "metadata": {
  "kernelspec": {
   "display_name": "Python 3",
   "language": "python",
   "name": "python3"
  },
  "language_info": {
   "codemirror_mode": {
    "name": "ipython",
    "version": 3
   },
   "file_extension": ".py",
   "mimetype": "text/x-python",
   "name": "python",
   "nbconvert_exporter": "python",
   "pygments_lexer": "ipython3",
   "version": "3.7.4"
  },
  "toc-autonumbering": true
 },
 "nbformat": 4,
 "nbformat_minor": 4
}
