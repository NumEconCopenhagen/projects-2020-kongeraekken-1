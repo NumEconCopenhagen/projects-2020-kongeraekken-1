{
 "cells": [
  {
   "cell_type": "markdown",
   "metadata": {},
   "source": [
    "# Dynamic Optimization With Durable Goods and Bequest Taxation\n",
    "In this project we elaborate on the two period consumer model presented in the lectures. \n",
    "Specifically, we examine the effect from introducind a durable good and a bequest tax. \n",
    "\n"
   ]
  },
  {
   "cell_type": "code",
   "execution_count": 1,
   "metadata": {},
   "outputs": [],
   "source": [
    "import numpy as np\n",
    "import matplotlib.pyplot as plt\n",
    "plt.style.use('seaborn-whitegrid')\n",
    "import ipywidgets as widgets\n",
    "import time\n",
    "from scipy import linalg\n",
    "from scipy import optimize\n",
    "import sympy as sm\n",
    "from IPython.display import display"
   ]
  },
  {
   "cell_type": "code",
   "execution_count": 10,
   "metadata": {},
   "outputs": [
    {
     "data": {
      "text/latex": [
       "$\\displaystyle A K_{t}^{\\alpha} L_{t}^{1 - \\alpha} - K_{t} r_{t} - L_{t} w_{t}$"
      ],
      "text/plain": [
       "A*K_t**alpha*L_t**(1 - alpha) - K_t*r_t - L_t*w_t"
      ]
     },
     "execution_count": 10,
     "metadata": {},
     "output_type": "execute_result"
    }
   ],
   "source": [
    "# define symbols\n",
    "A = sm.symbols('A') # A is a Python variable representing the symbol A\n",
    "Kt = sm.symbols('K_t')\n",
    "Lt = sm.symbols('L_t')\n",
    "alpha = sm.symbols('alpha')\n",
    "wt = sm.symbols('w_t')\n",
    "rt = sm.symbols('r_t')\n",
    "kt = Kt/Lt\n",
    "\n",
    "# define and show objective\n",
    "pi = A*Kt**alpha*Lt**(1-alpha)-wt*Lt-rt*Kt\n",
    "pi"
   ]
  },
  {
   "cell_type": "code",
   "execution_count": 11,
   "metadata": {},
   "outputs": [
    {
     "data": {
      "text/latex": [
       "$\\displaystyle \\frac{A K_{t}^{\\alpha} L_{t}^{1 - \\alpha} \\alpha}{K_{t}} - r_{t}$"
      ],
      "text/plain": [
       "A*K_t**alpha*L_t**(1 - alpha)*alpha/K_t - r_t"
      ]
     },
     "execution_count": 11,
     "metadata": {},
     "output_type": "execute_result"
    }
   ],
   "source": [
    "# First order conditions\n",
    "dpi_dKt = sm.diff(pi,Kt)\n",
    "dpi_dLt = sm.diff(pi,Lt)\n",
    "dpi_dKt"
   ]
  },
  {
   "cell_type": "markdown",
   "metadata": {},
   "source": [
    "sample text to have something to commit"
   ]
  },
  {
   "cell_type": "code",
   "execution_count": null,
   "metadata": {},
   "outputs": [],
   "source": []
  }
 ],
 "metadata": {
  "kernelspec": {
   "display_name": "Python 3",
   "language": "python",
   "name": "python3"
  },
  "language_info": {
   "codemirror_mode": {
    "name": "ipython",
    "version": 3
   },
   "file_extension": ".py",
   "mimetype": "text/x-python",
   "name": "python",
   "nbconvert_exporter": "python",
   "pygments_lexer": "ipython3",
   "version": "3.7.4"
  }
 },
 "nbformat": 4,
 "nbformat_minor": 4
}
