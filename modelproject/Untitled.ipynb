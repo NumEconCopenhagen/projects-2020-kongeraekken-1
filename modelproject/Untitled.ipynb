{
 "cells": [
  {
   "cell_type": "markdown",
   "metadata": {},
   "source": [
    "# Dynamic Optimization With Bequest Taxation\n",
    "Imports and set magics:"
   ]
  },
  {
   "cell_type": "code",
   "execution_count": 20,
   "metadata": {},
   "outputs": [
    {
     "name": "stdout",
     "output_type": "stream",
     "text": [
      "The autoreload extension is already loaded. To reload it, use:\n",
      "  %reload_ext autoreload\n"
     ]
    }
   ],
   "source": [
    "import numpy as np\n",
    "import matplotlib.pyplot as plt\n",
    "plt.style.use('seaborn-whitegrid')\n",
    "import ipywidgets as widgets\n",
    "import time\n",
    "from scipy import linalg\n",
    "from scipy import optimize\n",
    "import sympy as sm\n",
    "from IPython.display import display\n",
    "\n",
    "# autoreload modules when code is run\n",
    "%load_ext autoreload\n",
    "%autoreload 2\n",
    "\n",
    "# local modules\n",
    "import modelproject\n",
    "\n",
    "%matplotlib inline\n",
    "import matplotlib.pyplot as plt\n",
    "plt.style.use('seaborn-whitegrid')\n",
    "from matplotlib import cm\n",
    "from mpl_toolkits.mplot3d import Axes3D"
   ]
  },
  {
   "cell_type": "markdown",
   "metadata": {},
   "source": [
    "To start, we consider a simple two period consumer problem without uncertainty, where the following definitions of **variables** and **parameters** apply:\n",
    "\n",
    "* $m$ is the endowment (cash-on-hand). In this simplified version the consumer only get an endowment in period 1.\n",
    "* $c$ is consumption\n",
    "* $y$ is income\n",
    "* $r$ is the interest rate\n",
    "* $\\beta > 0$, $\\rho > 1$, $\\alpha \\in (0,1)$, $\\nu > 0 $, $\\kappa > 0$ are utility parameters\n",
    "* Subscripts denotes periods\n",
    "\n",
    "Furthermore, we introduce $\\tau$ as the bequest taxation rate $0<\\tau<1$.\n",
    "\n",
    "The two period utility function, $U$, can then be written as \n",
    "\n",
    "$$\n",
    "\\begin{align}\n",
    "    U &= \\max_{c_1,c_2}\\frac{c_1^{1-\\rho}}{1-\\rho}+\\beta\\frac{c_2^{1-\\rho}}{1-\\rho} \\\\\n",
    "    \\text{s.t.} \\\\\n",
    "    c_2 &= (1+r)(m_1-c_1) \\\\\n",
    "    c_{1} &\\in [0,m_{1}] \\\\\n",
    "\\end{align}\n",
    "$$\n",
    "\n",
    "where the constraint on consumption in period 2 is derived from the intertemporal budget constraint. Borrowing is not possible by the second constraint. \n"
   ]
  },
  {
   "cell_type": "code",
   "execution_count": 2,
   "metadata": {},
   "outputs": [
    {
     "data": {
      "text/latex": [
       "$\\displaystyle \\frac{\\beta \\left(- r - 1\\right) \\left(- c_{1} r - c_{1} + m_{1} r + m_{1}\\right)^{1 - \\rho}}{- c_{1} r - c_{1} + m_{1} r + m_{1}} + \\frac{c_{1}^{1 - \\rho}}{c_{1}}$"
      ],
      "text/plain": [
       "beta*(-r - 1)*(-c_1*r - c_1 + m_1*r + m_1)**(1 - rho)/(-c_1*r - c_1 + m_1*r + m_1) + c_1**(1 - rho)/c_1"
      ]
     },
     "execution_count": 2,
     "metadata": {},
     "output_type": "execute_result"
    }
   ],
   "source": [
    "# define symbols\n",
    "m1 = sm.symbols('m_1')\n",
    "c1 = sm.symbols('c_1')\n",
    "c2 = sm.symbols('c_2')\n",
    "r = sm.symbols('r')\n",
    "\n",
    "beta = sm.symbols('beta')\n",
    "kappa = sm.symbols('kappa')\n",
    "nu = sm.symbols('nu')\n",
    "rho = sm.symbols('rho')\n",
    "\n",
    "# define objective\n",
    "m2 = (1+r)*(m1-c1)\n",
    "obj = c1**(1-rho)/(1-rho)+beta*(c2**(1-rho)/(1-rho))\n",
    "\n",
    "# define constraint and solve for c2\n",
    "cons = sm.Eq(c2,(1+r)*(m1-c1))\n",
    "c2_from_cons = sm.solve(cons,c2)\n",
    "\n",
    "# substitute for c2 and take first order conditions\n",
    "obj_subs = obj.subs(c2,c2_from_cons[0])\n",
    "\n",
    "dU_dc1 = sm.diff(obj_subs,c1)\n",
    "dU_dc1"
   ]
  },
  {
   "cell_type": "markdown",
   "metadata": {},
   "source": [
    "Before we can solve for optimal consumption in period 1, we need to help sympy understand that the above expression is equal to \n",
    "$$\n",
    "\\begin{align}\n",
    "    \\frac{1}{c_1} &= \\frac{\\left(\\beta(1+r)\\right)^\\frac{1}{\\rho}}{(1+r)(m_1-c_1)}\n",
    "\\end{align}\n",
    "$$"
   ]
  },
  {
   "cell_type": "code",
   "execution_count": 3,
   "metadata": {},
   "outputs": [
    {
     "data": {
      "text/latex": [
       "$\\displaystyle \\frac{1}{c_{1}} = \\frac{\\left(\\beta \\left(r + 1\\right)\\right)^{\\frac{1}{\\rho}}}{\\left(- c_{1} + m_{1}\\right) \\left(r + 1\\right)}$"
      ],
      "text/plain": [
       "Eq(1/c_1, (beta*(r + 1))**(1/rho)/((-c_1 + m_1)*(r + 1)))"
      ]
     },
     "metadata": {},
     "output_type": "display_data"
    }
   ],
   "source": [
    "# help sympy collect terms\n",
    "dU_dc1_simple = sm.Eq(1/c1,(beta*(1+r))**(1/rho)/((1+r)*(m1-c1)))\n",
    "display(dU_dc1_simple)"
   ]
  },
  {
   "cell_type": "code",
   "execution_count": 4,
   "metadata": {},
   "outputs": [
    {
     "data": {
      "text/latex": [
       "$\\displaystyle \\frac{m_{1} \\left(r + 1\\right)}{r + \\left(\\beta \\left(r + 1\\right)\\right)^{\\frac{1}{\\rho}} + 1}$"
      ],
      "text/plain": [
       "m_1*(r + 1)/(r + (beta*(r + 1))**(1/rho) + 1)"
      ]
     },
     "execution_count": 4,
     "metadata": {},
     "output_type": "execute_result"
    }
   ],
   "source": [
    "# solve for optimal c1\n",
    "c1_star_solve = sm.solve(dU_dc1_simple,c1)\n",
    "c1_star = c1_star_solve[0]"
   ]
  },
  {
   "cell_type": "code",
   "execution_count": 6,
   "metadata": {},
   "outputs": [
    {
     "data": {
      "text/latex": [
       "$\\displaystyle \\frac{m_{1} \\left(\\beta \\left(r + 1\\right)\\right)^{\\frac{1}{\\rho}} \\left(r + 1\\right)}{r + \\left(\\beta \\left(r + 1\\right)\\right)^{\\frac{1}{\\rho}} + 1}$"
      ],
      "text/plain": [
       "m_1*(beta*(r + 1))**(1/rho)*(r + 1)/(r + (beta*(r + 1))**(1/rho) + 1)"
      ]
     },
     "execution_count": 6,
     "metadata": {},
     "output_type": "execute_result"
    }
   ],
   "source": [
    "# compute optimal c2\n",
    "cons_subs = cons.subs(c1,c1_star[0])\n",
    "c2_star_solve = sm.solve(cons_subs,c2)\n",
    "c2_star = c2_star_solve[0]"
   ]
  },
  {
   "cell_type": "code",
   "execution_count": 9,
   "metadata": {},
   "outputs": [],
   "source": [
    "# lambdify functions for c1 and c2\n",
    "c1_func = sm.lambdify((m1,r,beta,rho),c1_star)\n",
    "c2_func = sm.lambdify((m1,r,beta,rho),c2_star)"
   ]
  },
  {
   "cell_type": "code",
   "execution_count": 30,
   "metadata": {},
   "outputs": [],
   "source": [
    "# define parameter values\n",
    "m1 = 2\n",
    "r = 0.03\n",
    "beta = 0.95\n",
    "rho = 2"
   ]
  },
  {
   "cell_type": "code",
   "execution_count": 43,
   "metadata": {},
   "outputs": [
    {
     "name": "stdout",
     "output_type": "stream",
     "text": [
      "analytical solution is: c1 = 1.020, c2 = 1.009\n",
      "numerical solution is: c1 = 1.020, c2 = 1.009\n",
      "analytical and numerical solution are equal with numerical precision: c1: True c2: True\n"
     ]
    }
   ],
   "source": [
    "# solve analytically and numerically\n",
    "\n",
    "c1_s, c2_s = modelproject.solve_for_consumption(m1,r,beta,rho)\n",
    "\n",
    "print(f'analytical solution is: c1 = {c1_func(m1,r,beta,rho)[0]:.3f}, c2 = {c2_func(m1,r,beta,rho)[0]:.3f}')\n",
    "print(f'numerical solution is: c1 = {c1_s:.3f}, c2 = {c2_s:.3f}')\n",
    "print(f'analytical and numerical solution are equal with numerical precision: c1: {np.isclose(c1_func(m1,r,beta,rho)[0],c1_s)} c2: {np.isclose(c2_func(m1,r,beta,rho)[0],c2_s)}')"
   ]
  },
  {
   "cell_type": "markdown",
   "metadata": {},
   "source": [
    "Thus, the value function in **period 2** is given by:\n",
    "$$\n",
    "\\begin{aligned}\n",
    "v_{2}(m_{2}) &= \\max_{c_{2}}\\frac{c_{2}^{1-\\rho}}{1-\\rho}+(1-\\tau)\\nu\\frac{(m_{2}-c_{2}+\\kappa)^{1-\\rho}}{1-\\rho} \\\\\n",
    "\\text{s.t.} \\\\\n",
    "c_{2} & \\in [0,m_{2}]\n",
    "\\end{aligned}\n",
    "$$\n",
    "\n",
    "In **period 1**, the household solves \n",
    "\n",
    "$$\n",
    "\\begin{aligned}\n",
    "v_{1}(m_{1}) &= \\max_{c_{1}}\\frac{c_{1}^{1-\\rho}}{1-\\rho}+\\beta{v_2}(m_2)\\\\&\\text{s.t.}&\\\\\n",
    "m_2 &= (1+r)(m_{1}-c_{1})+y_{2} \\\\\n",
    "c_{1} &\\in [0,m_{1}]\\\\\n",
    "\\end{aligned}\n",
    "$$"
   ]
  },
  {
   "cell_type": "code",
   "execution_count": null,
   "metadata": {},
   "outputs": [],
   "source": []
  }
 ],
 "metadata": {
  "kernelspec": {
   "display_name": "Python 3",
   "language": "python",
   "name": "python3"
  },
  "language_info": {
   "codemirror_mode": {
    "name": "ipython",
    "version": 3
   },
   "file_extension": ".py",
   "mimetype": "text/x-python",
   "name": "python",
   "nbconvert_exporter": "python",
   "pygments_lexer": "ipython3",
   "version": "3.7.4"
  }
 },
 "nbformat": 4,
 "nbformat_minor": 4
}
